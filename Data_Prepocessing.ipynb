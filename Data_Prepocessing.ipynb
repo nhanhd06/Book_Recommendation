{
  "nbformat": 4,
  "nbformat_minor": 0,
  "metadata": {
    "colab": {
      "name": "Data_Prepocessing.ipynb",
      "provenance": [],
      "collapsed_sections": [],
      "include_colab_link": true
    },
    "kernelspec": {
      "name": "python3",
      "display_name": "Python 3"
    },
    "language_info": {
      "name": "python"
    }
  },
  "cells": [
    {
      "cell_type": "markdown",
      "metadata": {
        "id": "view-in-github",
        "colab_type": "text"
      },
      "source": [
        "<a href=\"https://colab.research.google.com/github/nhanhd06/Book_Recommendation/blob/main/Data_Prepocessing.ipynb\" target=\"_parent\"><img src=\"https://colab.research.google.com/assets/colab-badge.svg\" alt=\"Open In Colab\"/></a>"
      ]
    },
    {
      "cell_type": "markdown",
      "metadata": {
        "id": "3a_qm4mAgnBf"
      },
      "source": [
        "# **Book-Crossing Recommendation System**\n",
        "\n",
        "**Aim**: Build a recommendation engine using the Book-Crossing dataset, which includes book, user and ratings dataset"
      ]
    },
    {
      "cell_type": "code",
      "metadata": {
        "colab": {
          "base_uri": "https://localhost:8080/"
        },
        "id": "opT87b0h4BZ5",
        "outputId": "10ea3a6f-ff55-48ed-ff9e-69f89240a6a2"
      },
      "source": [
        "! pip install kaggle"
      ],
      "execution_count": null,
      "outputs": [
        {
          "output_type": "stream",
          "name": "stdout",
          "text": [
            "Requirement already satisfied: kaggle in /usr/local/lib/python3.7/dist-packages (1.5.12)\n",
            "Requirement already satisfied: urllib3 in /usr/local/lib/python3.7/dist-packages (from kaggle) (1.24.3)\n",
            "Requirement already satisfied: python-dateutil in /usr/local/lib/python3.7/dist-packages (from kaggle) (2.8.2)\n",
            "Requirement already satisfied: requests in /usr/local/lib/python3.7/dist-packages (from kaggle) (2.23.0)\n",
            "Requirement already satisfied: python-slugify in /usr/local/lib/python3.7/dist-packages (from kaggle) (5.0.2)\n",
            "Requirement already satisfied: certifi in /usr/local/lib/python3.7/dist-packages (from kaggle) (2021.10.8)\n",
            "Requirement already satisfied: six>=1.10 in /usr/local/lib/python3.7/dist-packages (from kaggle) (1.15.0)\n",
            "Requirement already satisfied: tqdm in /usr/local/lib/python3.7/dist-packages (from kaggle) (4.62.3)\n",
            "Requirement already satisfied: text-unidecode>=1.3 in /usr/local/lib/python3.7/dist-packages (from python-slugify->kaggle) (1.3)\n",
            "Requirement already satisfied: idna<3,>=2.5 in /usr/local/lib/python3.7/dist-packages (from requests->kaggle) (2.10)\n",
            "Requirement already satisfied: chardet<4,>=3.0.2 in /usr/local/lib/python3.7/dist-packages (from requests->kaggle) (3.0.4)\n"
          ]
        }
      ]
    },
    {
      "cell_type": "code",
      "metadata": {
        "id": "CM_BUF7X4Eym"
      },
      "source": [
        "import numpy as np\n",
        "import pandas as pd \n",
        "import seaborn as sns \n",
        "import matplotlib.pyplot as plt\n",
        "import pickle as pickle\n",
        "from sklearn import model_selection"
      ],
      "execution_count": null,
      "outputs": []
    },
    {
      "cell_type": "markdown",
      "metadata": {
        "id": "hh7JfOlAiZBy"
      },
      "source": [
        "**Import the dataset from kaggle**"
      ]
    },
    {
      "cell_type": "code",
      "metadata": {
        "id": "YdCZGQbb6JKM"
      },
      "source": [
        "file_share_link=\"https://drive.google.com/file/d/1M4yqyHPmR-EVXzyqeL1dVixkwuEhKpKD/view?usp=sharing\"\n",
        "file_id = file_share_link.split(\"/\")\n",
        "file_address = 'https://docs.google.com/uc?export=download&id=' + file_id[5]"
      ],
      "execution_count": null,
      "outputs": []
    },
    {
      "cell_type": "code",
      "metadata": {
        "colab": {
          "base_uri": "https://localhost:8080/"
        },
        "id": "6hQVnd8G5epr",
        "outputId": "47b6c885-c070-481b-d7ef-4f95ba525d1b"
      },
      "source": [
        "! rm -rf .kaggle && mkdir .kaggle\n",
        "! rm -rf kaggle.json && wget -O kaggle.json \"$file_address\" \n",
        "! mv kaggle.json ~/.kaggle/ \n",
        "! chmod 600 /root/.kaggle/kaggle.json\n",
        "! rm -rf books-dataset.zip && kaggle datasets download saurabhbagchi/books-dataset\n",
        "! rm -rf books.csv ratings.csv users.csv && unzip  -j books-dataset.zip"
      ],
      "execution_count": null,
      "outputs": [
        {
          "output_type": "stream",
          "name": "stdout",
          "text": [
            "--2021-12-04 02:50:20--  https://docs.google.com/uc?export=download&id=1M4yqyHPmR-EVXzyqeL1dVixkwuEhKpKD\n",
            "Resolving docs.google.com (docs.google.com)... 142.250.157.139, 142.250.157.113, 142.250.157.138, ...\n",
            "Connecting to docs.google.com (docs.google.com)|142.250.157.139|:443... connected.\n",
            "HTTP request sent, awaiting response... 302 Moved Temporarily\n",
            "Location: https://doc-0o-5c-docs.googleusercontent.com/docs/securesc/ha0ro937gcuc7l7deffksulhg5h7mbp1/440slmkkf5ovpr72qt1ho9r5nssiscan/1638586200000/15672033725657311753/*/1M4yqyHPmR-EVXzyqeL1dVixkwuEhKpKD?e=download [following]\n",
            "Warning: wildcards not supported in HTTP.\n",
            "--2021-12-04 02:50:21--  https://doc-0o-5c-docs.googleusercontent.com/docs/securesc/ha0ro937gcuc7l7deffksulhg5h7mbp1/440slmkkf5ovpr72qt1ho9r5nssiscan/1638586200000/15672033725657311753/*/1M4yqyHPmR-EVXzyqeL1dVixkwuEhKpKD?e=download\n",
            "Resolving doc-0o-5c-docs.googleusercontent.com (doc-0o-5c-docs.googleusercontent.com)... 142.251.8.132, 2404:6800:4008:c15::84\n",
            "Connecting to doc-0o-5c-docs.googleusercontent.com (doc-0o-5c-docs.googleusercontent.com)|142.251.8.132|:443... connected.\n",
            "HTTP request sent, awaiting response... 200 OK\n",
            "Length: 66 [application/json]\n",
            "Saving to: ‘kaggle.json’\n",
            "\n",
            "kaggle.json         100%[===================>]      66  --.-KB/s    in 0s      \n",
            "\n",
            "2021-12-04 02:50:21 (2.79 MB/s) - ‘kaggle.json’ saved [66/66]\n",
            "\n",
            "Downloading books-dataset.zip to /content\n",
            " 37% 9.00M/24.6M [00:01<00:03, 4.97MB/s]\n",
            "100% 24.6M/24.6M [00:01<00:00, 15.0MB/s]\n",
            "Archive:  books-dataset.zip\n",
            "  inflating: books.csv               \n",
            "  inflating: ratings.csv             \n",
            "  inflating: users.csv               \n"
          ]
        }
      ]
    },
    {
      "cell_type": "code",
      "metadata": {
        "colab": {
          "base_uri": "https://localhost:8080/"
        },
        "id": "0LtSnlM3BCNx",
        "outputId": "936a0f8d-a52c-41ab-b6d2-370079731175"
      },
      "source": [
        "books = pd.read_csv('books.csv', sep=';', error_bad_lines=False, encoding=\"latin-1\" )\n",
        "users = pd.read_csv('users.csv', sep=';', error_bad_lines=False, encoding=\"latin-1\" )\n",
        "ratings = pd.read_csv('ratings.csv', sep=';', error_bad_lines=False, encoding=\"latin-1\" )"
      ],
      "execution_count": null,
      "outputs": [
        {
          "output_type": "stream",
          "name": "stderr",
          "text": [
            "b'Skipping line 6452: expected 8 fields, saw 9\\nSkipping line 43667: expected 8 fields, saw 10\\nSkipping line 51751: expected 8 fields, saw 9\\n'\n",
            "b'Skipping line 92038: expected 8 fields, saw 9\\nSkipping line 104319: expected 8 fields, saw 9\\nSkipping line 121768: expected 8 fields, saw 9\\n'\n",
            "b'Skipping line 144058: expected 8 fields, saw 9\\nSkipping line 150789: expected 8 fields, saw 9\\nSkipping line 157128: expected 8 fields, saw 9\\nSkipping line 180189: expected 8 fields, saw 9\\nSkipping line 185738: expected 8 fields, saw 9\\n'\n",
            "b'Skipping line 209388: expected 8 fields, saw 9\\nSkipping line 220626: expected 8 fields, saw 9\\nSkipping line 227933: expected 8 fields, saw 11\\nSkipping line 228957: expected 8 fields, saw 10\\nSkipping line 245933: expected 8 fields, saw 9\\nSkipping line 251296: expected 8 fields, saw 9\\nSkipping line 259941: expected 8 fields, saw 9\\nSkipping line 261529: expected 8 fields, saw 9\\n'\n",
            "/usr/local/lib/python3.7/dist-packages/IPython/core/interactiveshell.py:2718: DtypeWarning: Columns (3) have mixed types.Specify dtype option on import or set low_memory=False.\n",
            "  interactivity=interactivity, compiler=compiler, result=result)\n"
          ]
        }
      ]
    },
    {
      "cell_type": "markdown",
      "metadata": {
        "id": "SLQZHakQiv6C"
      },
      "source": [
        "**Checking data output and shape**"
      ]
    },
    {
      "cell_type": "code",
      "metadata": {
        "colab": {
          "base_uri": "https://localhost:8080/",
          "height": 379
        },
        "id": "Cr6EsyW9M_Mv",
        "outputId": "f37ed67a-3f09-4931-966c-c1ac3f798fdb"
      },
      "source": [
        "books.head()"
      ],
      "execution_count": null,
      "outputs": [
        {
          "output_type": "execute_result",
          "data": {
            "text/html": [
              "<div>\n",
              "<style scoped>\n",
              "    .dataframe tbody tr th:only-of-type {\n",
              "        vertical-align: middle;\n",
              "    }\n",
              "\n",
              "    .dataframe tbody tr th {\n",
              "        vertical-align: top;\n",
              "    }\n",
              "\n",
              "    .dataframe thead th {\n",
              "        text-align: right;\n",
              "    }\n",
              "</style>\n",
              "<table border=\"1\" class=\"dataframe\">\n",
              "  <thead>\n",
              "    <tr style=\"text-align: right;\">\n",
              "      <th></th>\n",
              "      <th>ISBN</th>\n",
              "      <th>Book-Title</th>\n",
              "      <th>Book-Author</th>\n",
              "      <th>Year-Of-Publication</th>\n",
              "      <th>Publisher</th>\n",
              "      <th>Image-URL-S</th>\n",
              "      <th>Image-URL-M</th>\n",
              "      <th>Image-URL-L</th>\n",
              "    </tr>\n",
              "  </thead>\n",
              "  <tbody>\n",
              "    <tr>\n",
              "      <th>0</th>\n",
              "      <td>0195153448</td>\n",
              "      <td>Classical Mythology</td>\n",
              "      <td>Mark P. O. Morford</td>\n",
              "      <td>2002</td>\n",
              "      <td>Oxford University Press</td>\n",
              "      <td>http://images.amazon.com/images/P/0195153448.0...</td>\n",
              "      <td>http://images.amazon.com/images/P/0195153448.0...</td>\n",
              "      <td>http://images.amazon.com/images/P/0195153448.0...</td>\n",
              "    </tr>\n",
              "    <tr>\n",
              "      <th>1</th>\n",
              "      <td>0002005018</td>\n",
              "      <td>Clara Callan</td>\n",
              "      <td>Richard Bruce Wright</td>\n",
              "      <td>2001</td>\n",
              "      <td>HarperFlamingo Canada</td>\n",
              "      <td>http://images.amazon.com/images/P/0002005018.0...</td>\n",
              "      <td>http://images.amazon.com/images/P/0002005018.0...</td>\n",
              "      <td>http://images.amazon.com/images/P/0002005018.0...</td>\n",
              "    </tr>\n",
              "    <tr>\n",
              "      <th>2</th>\n",
              "      <td>0060973129</td>\n",
              "      <td>Decision in Normandy</td>\n",
              "      <td>Carlo D'Este</td>\n",
              "      <td>1991</td>\n",
              "      <td>HarperPerennial</td>\n",
              "      <td>http://images.amazon.com/images/P/0060973129.0...</td>\n",
              "      <td>http://images.amazon.com/images/P/0060973129.0...</td>\n",
              "      <td>http://images.amazon.com/images/P/0060973129.0...</td>\n",
              "    </tr>\n",
              "    <tr>\n",
              "      <th>3</th>\n",
              "      <td>0374157065</td>\n",
              "      <td>Flu: The Story of the Great Influenza Pandemic...</td>\n",
              "      <td>Gina Bari Kolata</td>\n",
              "      <td>1999</td>\n",
              "      <td>Farrar Straus Giroux</td>\n",
              "      <td>http://images.amazon.com/images/P/0374157065.0...</td>\n",
              "      <td>http://images.amazon.com/images/P/0374157065.0...</td>\n",
              "      <td>http://images.amazon.com/images/P/0374157065.0...</td>\n",
              "    </tr>\n",
              "    <tr>\n",
              "      <th>4</th>\n",
              "      <td>0393045218</td>\n",
              "      <td>The Mummies of Urumchi</td>\n",
              "      <td>E. J. W. Barber</td>\n",
              "      <td>1999</td>\n",
              "      <td>W. W. Norton &amp;amp; Company</td>\n",
              "      <td>http://images.amazon.com/images/P/0393045218.0...</td>\n",
              "      <td>http://images.amazon.com/images/P/0393045218.0...</td>\n",
              "      <td>http://images.amazon.com/images/P/0393045218.0...</td>\n",
              "    </tr>\n",
              "  </tbody>\n",
              "</table>\n",
              "</div>"
            ],
            "text/plain": [
              "         ISBN  ...                                        Image-URL-L\n",
              "0  0195153448  ...  http://images.amazon.com/images/P/0195153448.0...\n",
              "1  0002005018  ...  http://images.amazon.com/images/P/0002005018.0...\n",
              "2  0060973129  ...  http://images.amazon.com/images/P/0060973129.0...\n",
              "3  0374157065  ...  http://images.amazon.com/images/P/0374157065.0...\n",
              "4  0393045218  ...  http://images.amazon.com/images/P/0393045218.0...\n",
              "\n",
              "[5 rows x 8 columns]"
            ]
          },
          "metadata": {},
          "execution_count": 8
        }
      ]
    },
    {
      "cell_type": "code",
      "metadata": {
        "colab": {
          "base_uri": "https://localhost:8080/"
        },
        "id": "FwEjbqVLO_J2",
        "outputId": "e760ab7f-71df-44da-9cf5-29e1f02122f8"
      },
      "source": [
        "print('Books Data Summary: ', books.shape)\n",
        "print('Users Data Summary: ', users.shape)\n",
        "print('Ratings Data Summary: ', ratings.shape)"
      ],
      "execution_count": null,
      "outputs": [
        {
          "output_type": "stream",
          "name": "stdout",
          "text": [
            "Books Data Summary:  (271360, 8)\n",
            "Users Data Summary:  (278858, 3)\n",
            "Ratings Data Summary:  (1149780, 3)\n"
          ]
        }
      ]
    },
    {
      "cell_type": "markdown",
      "metadata": {
        "id": "e4mPVKegjEq2"
      },
      "source": [
        "## **Preprocessing Users Data**"
      ]
    },
    {
      "cell_type": "markdown",
      "metadata": {
        "id": "EMcQjxVoZ3Xp"
      },
      "source": [
        "Check user data => Looks like location is combined with full address"
      ]
    },
    {
      "cell_type": "code",
      "metadata": {
        "colab": {
          "base_uri": "https://localhost:8080/",
          "height": 206
        },
        "id": "Z0OHFE0GZ0EV",
        "outputId": "993b92be-f158-47d4-cc18-cc4a0c869606"
      },
      "source": [
        "users.head()"
      ],
      "execution_count": null,
      "outputs": [
        {
          "output_type": "execute_result",
          "data": {
            "text/html": [
              "<div>\n",
              "<style scoped>\n",
              "    .dataframe tbody tr th:only-of-type {\n",
              "        vertical-align: middle;\n",
              "    }\n",
              "\n",
              "    .dataframe tbody tr th {\n",
              "        vertical-align: top;\n",
              "    }\n",
              "\n",
              "    .dataframe thead th {\n",
              "        text-align: right;\n",
              "    }\n",
              "</style>\n",
              "<table border=\"1\" class=\"dataframe\">\n",
              "  <thead>\n",
              "    <tr style=\"text-align: right;\">\n",
              "      <th></th>\n",
              "      <th>User-ID</th>\n",
              "      <th>Location</th>\n",
              "      <th>Age</th>\n",
              "    </tr>\n",
              "  </thead>\n",
              "  <tbody>\n",
              "    <tr>\n",
              "      <th>0</th>\n",
              "      <td>1</td>\n",
              "      <td>nyc, new york, usa</td>\n",
              "      <td>NaN</td>\n",
              "    </tr>\n",
              "    <tr>\n",
              "      <th>1</th>\n",
              "      <td>2</td>\n",
              "      <td>stockton, california, usa</td>\n",
              "      <td>18.0</td>\n",
              "    </tr>\n",
              "    <tr>\n",
              "      <th>2</th>\n",
              "      <td>3</td>\n",
              "      <td>moscow, yukon territory, russia</td>\n",
              "      <td>NaN</td>\n",
              "    </tr>\n",
              "    <tr>\n",
              "      <th>3</th>\n",
              "      <td>4</td>\n",
              "      <td>porto, v.n.gaia, portugal</td>\n",
              "      <td>17.0</td>\n",
              "    </tr>\n",
              "    <tr>\n",
              "      <th>4</th>\n",
              "      <td>5</td>\n",
              "      <td>farnborough, hants, united kingdom</td>\n",
              "      <td>NaN</td>\n",
              "    </tr>\n",
              "  </tbody>\n",
              "</table>\n",
              "</div>"
            ],
            "text/plain": [
              "   User-ID                            Location   Age\n",
              "0        1                  nyc, new york, usa   NaN\n",
              "1        2           stockton, california, usa  18.0\n",
              "2        3     moscow, yukon territory, russia   NaN\n",
              "3        4           porto, v.n.gaia, portugal  17.0\n",
              "4        5  farnborough, hants, united kingdom   NaN"
            ]
          },
          "metadata": {},
          "execution_count": 10
        }
      ]
    },
    {
      "cell_type": "code",
      "metadata": {
        "colab": {
          "base_uri": "https://localhost:8080/"
        },
        "id": "yHG475XFP1sr",
        "outputId": "d8633b6e-2d78-4f92-895a-407b3381252d"
      },
      "source": [
        "users.dtypes"
      ],
      "execution_count": null,
      "outputs": [
        {
          "output_type": "execute_result",
          "data": {
            "text/plain": [
              "User-ID       int64\n",
              "Location     object\n",
              "Age         float64\n",
              "dtype: object"
            ]
          },
          "metadata": {},
          "execution_count": 11
        }
      ]
    },
    {
      "cell_type": "markdown",
      "metadata": {
        "id": "oZcxm40IiKfv"
      },
      "source": [
        "***First, inspect User-ID Field***"
      ]
    },
    {
      "cell_type": "markdown",
      "metadata": {
        "id": "R4BwGts2iX2w"
      },
      "source": [
        "Inspect to see if there is any duplicated User-ID => Looks like none"
      ]
    },
    {
      "cell_type": "code",
      "metadata": {
        "colab": {
          "base_uri": "https://localhost:8080/"
        },
        "id": "QtsVXu00hcfU",
        "outputId": "cb269b47-64fe-4829-9ed8-fda6316c2bcb"
      },
      "source": [
        "unique_users = users['User-ID'].nunique()\n",
        "all_users = users['User-ID'].count()\n",
        "print(\"User-ID Unique Number: \" + str(unique_users))\n",
        "print(\"All User-ID Number: \" + str(all_users))"
      ],
      "execution_count": null,
      "outputs": [
        {
          "output_type": "stream",
          "name": "stdout",
          "text": [
            "User-ID Unique Number: 278858\n",
            "All User-ID Number: 278858\n"
          ]
        }
      ]
    },
    {
      "cell_type": "markdown",
      "metadata": {
        "id": "NDjv8LsTkFdi"
      },
      "source": [
        "***Next, inspect Location Field***"
      ]
    },
    {
      "cell_type": "markdown",
      "metadata": {
        "id": "cAnFhsmJki8E"
      },
      "source": [
        "Break Location Field into City, State, and Country and display data"
      ]
    },
    {
      "cell_type": "code",
      "metadata": {
        "colab": {
          "base_uri": "https://localhost:8080/",
          "height": 206
        },
        "id": "A80K4c8hdeEe",
        "outputId": "bfef4622-3e0f-47e8-c86a-34ff313f777d"
      },
      "source": [
        "# Split Location\n",
        "data_expand = users['Location'].str.split(',', 2, expand=True)\n",
        "data_expand.columns = ['City', 'State', 'Country']\n",
        "users = users.join(data_expand)\n",
        "users = users.drop(['Location'], axis=1)\n",
        "users.head()"
      ],
      "execution_count": null,
      "outputs": [
        {
          "output_type": "execute_result",
          "data": {
            "text/html": [
              "<div>\n",
              "<style scoped>\n",
              "    .dataframe tbody tr th:only-of-type {\n",
              "        vertical-align: middle;\n",
              "    }\n",
              "\n",
              "    .dataframe tbody tr th {\n",
              "        vertical-align: top;\n",
              "    }\n",
              "\n",
              "    .dataframe thead th {\n",
              "        text-align: right;\n",
              "    }\n",
              "</style>\n",
              "<table border=\"1\" class=\"dataframe\">\n",
              "  <thead>\n",
              "    <tr style=\"text-align: right;\">\n",
              "      <th></th>\n",
              "      <th>User-ID</th>\n",
              "      <th>Age</th>\n",
              "      <th>City</th>\n",
              "      <th>State</th>\n",
              "      <th>Country</th>\n",
              "    </tr>\n",
              "  </thead>\n",
              "  <tbody>\n",
              "    <tr>\n",
              "      <th>0</th>\n",
              "      <td>1</td>\n",
              "      <td>NaN</td>\n",
              "      <td>nyc</td>\n",
              "      <td>new york</td>\n",
              "      <td>usa</td>\n",
              "    </tr>\n",
              "    <tr>\n",
              "      <th>1</th>\n",
              "      <td>2</td>\n",
              "      <td>18.0</td>\n",
              "      <td>stockton</td>\n",
              "      <td>california</td>\n",
              "      <td>usa</td>\n",
              "    </tr>\n",
              "    <tr>\n",
              "      <th>2</th>\n",
              "      <td>3</td>\n",
              "      <td>NaN</td>\n",
              "      <td>moscow</td>\n",
              "      <td>yukon territory</td>\n",
              "      <td>russia</td>\n",
              "    </tr>\n",
              "    <tr>\n",
              "      <th>3</th>\n",
              "      <td>4</td>\n",
              "      <td>17.0</td>\n",
              "      <td>porto</td>\n",
              "      <td>v.n.gaia</td>\n",
              "      <td>portugal</td>\n",
              "    </tr>\n",
              "    <tr>\n",
              "      <th>4</th>\n",
              "      <td>5</td>\n",
              "      <td>NaN</td>\n",
              "      <td>farnborough</td>\n",
              "      <td>hants</td>\n",
              "      <td>united kingdom</td>\n",
              "    </tr>\n",
              "  </tbody>\n",
              "</table>\n",
              "</div>"
            ],
            "text/plain": [
              "   User-ID   Age         City             State          Country\n",
              "0        1   NaN          nyc          new york              usa\n",
              "1        2  18.0     stockton        california              usa\n",
              "2        3   NaN       moscow   yukon territory           russia\n",
              "3        4  17.0        porto          v.n.gaia         portugal\n",
              "4        5   NaN  farnborough             hants   united kingdom"
            ]
          },
          "metadata": {},
          "execution_count": 13
        }
      ]
    },
    {
      "cell_type": "markdown",
      "metadata": {
        "id": "HwYEiOXYkm5a"
      },
      "source": [
        "Check the top 10 cities with most amount of users => Looked like London is the most"
      ]
    },
    {
      "cell_type": "code",
      "metadata": {
        "colab": {
          "base_uri": "https://localhost:8080/"
        },
        "id": "8acr7wGifikM",
        "outputId": "e82bd429-4dd7-4e38-88a8-993de0d3f387"
      },
      "source": [
        "top_cities = users['City'].value_counts()[:10]\n",
        "print(\"Top 10 Cities With Most Users:\")\n",
        "print(top_cities)"
      ],
      "execution_count": null,
      "outputs": [
        {
          "output_type": "stream",
          "name": "stdout",
          "text": [
            "Top 10 Cities With Most Users:\n",
            "london       4105\n",
            "barcelona    2664\n",
            "toronto      2342\n",
            "madrid       1933\n",
            "sydney       1884\n",
            "portland     1869\n",
            "melbourne    1863\n",
            "vancouver    1699\n",
            "chicago      1566\n",
            "seattle      1541\n",
            "Name: City, dtype: int64\n"
          ]
        }
      ]
    },
    {
      "cell_type": "markdown",
      "metadata": {
        "id": "NWiKoTn0lLtn"
      },
      "source": [
        "Check top 10 countries with most amount of users => It is interesting that City London has the most but USA is taking the lead in this field"
      ]
    },
    {
      "cell_type": "code",
      "metadata": {
        "colab": {
          "base_uri": "https://localhost:8080/"
        },
        "id": "NxpDoCMVgK5I",
        "outputId": "b6aab71d-bb25-4901-819d-052bfeb8d857"
      },
      "source": [
        "top_countries = users['Country'].value_counts()[:10]\n",
        "print(\"Top 10 Countries With Most Users:\")\n",
        "print(top_countries)"
      ],
      "execution_count": null,
      "outputs": [
        {
          "output_type": "stream",
          "name": "stdout",
          "text": [
            "Top 10 Countries With Most Users:\n",
            " usa               139183\n",
            " canada             21556\n",
            " united kingdom     18286\n",
            " germany            17021\n",
            " spain              13088\n",
            " australia          11719\n",
            " italy              11238\n",
            "                     4561\n",
            " france              3440\n",
            " portugal            3305\n",
            "Name: Country, dtype: int64\n"
          ]
        }
      ]
    },
    {
      "cell_type": "markdown",
      "metadata": {
        "id": "gr1cwelnlz5w"
      },
      "source": [
        "It looks like empty in Country Field has a lot = 4561 => Go ahead and replace its value with Nan instead"
      ]
    },
    {
      "cell_type": "code",
      "metadata": {
        "id": "5-fLBtb2gswD"
      },
      "source": [
        "users['Country'].replace('', np.nan, inplace=True)"
      ],
      "execution_count": null,
      "outputs": []
    },
    {
      "cell_type": "markdown",
      "metadata": {
        "id": "VzJl2CD1jYl9"
      },
      "source": [
        "***Next, inspect Age Field***"
      ]
    },
    {
      "cell_type": "markdown",
      "metadata": {
        "id": "ToS0_BEMm1ZK"
      },
      "source": [
        "Check Age Column Values => Some of values are not correct like 244 which is too high for human age"
      ]
    },
    {
      "cell_type": "code",
      "metadata": {
        "colab": {
          "base_uri": "https://localhost:8080/"
        },
        "id": "cIaI336OSX5M",
        "outputId": "0b95aa54-a957-4cf6-ff8e-77b416847963"
      },
      "source": [
        "users['Age'].describe()"
      ],
      "execution_count": null,
      "outputs": [
        {
          "output_type": "execute_result",
          "data": {
            "text/plain": [
              "count    168096.000000\n",
              "mean         34.751434\n",
              "std          14.428097\n",
              "min           0.000000\n",
              "25%          24.000000\n",
              "50%          32.000000\n",
              "75%          44.000000\n",
              "max         244.000000\n",
              "Name: Age, dtype: float64"
            ]
          },
          "metadata": {},
          "execution_count": 17
        }
      ]
    },
    {
      "cell_type": "markdown",
      "metadata": {
        "id": "Xz3zIh6Pj2zp"
      },
      "source": [
        "Check the entire age column => Looks like we did have the range above 100 years old a lot up to 244"
      ]
    },
    {
      "cell_type": "code",
      "metadata": {
        "colab": {
          "base_uri": "https://localhost:8080/",
          "height": 1000
        },
        "id": "z3_W5RqZjrfF",
        "outputId": "ff82f2c9-018e-41c4-e552-4872d7010a9d"
      },
      "source": [
        "display(sorted(users['Age'].unique()))"
      ],
      "execution_count": null,
      "outputs": [
        {
          "output_type": "display_data",
          "data": {
            "text/plain": [
              "[nan,\n",
              " 0.0,\n",
              " 1.0,\n",
              " 2.0,\n",
              " 3.0,\n",
              " 4.0,\n",
              " 5.0,\n",
              " 6.0,\n",
              " 7.0,\n",
              " 8.0,\n",
              " 9.0,\n",
              " 10.0,\n",
              " 11.0,\n",
              " 12.0,\n",
              " 13.0,\n",
              " 14.0,\n",
              " 15.0,\n",
              " 16.0,\n",
              " 17.0,\n",
              " 18.0,\n",
              " 19.0,\n",
              " 20.0,\n",
              " 21.0,\n",
              " 22.0,\n",
              " 23.0,\n",
              " 24.0,\n",
              " 25.0,\n",
              " 26.0,\n",
              " 27.0,\n",
              " 28.0,\n",
              " 29.0,\n",
              " 30.0,\n",
              " 31.0,\n",
              " 32.0,\n",
              " 33.0,\n",
              " 34.0,\n",
              " 35.0,\n",
              " 36.0,\n",
              " 37.0,\n",
              " 38.0,\n",
              " 39.0,\n",
              " 40.0,\n",
              " 41.0,\n",
              " 42.0,\n",
              " 43.0,\n",
              " 44.0,\n",
              " 45.0,\n",
              " 46.0,\n",
              " 47.0,\n",
              " 48.0,\n",
              " 49.0,\n",
              " 50.0,\n",
              " 51.0,\n",
              " 52.0,\n",
              " 53.0,\n",
              " 54.0,\n",
              " 55.0,\n",
              " 56.0,\n",
              " 57.0,\n",
              " 58.0,\n",
              " 59.0,\n",
              " 60.0,\n",
              " 61.0,\n",
              " 62.0,\n",
              " 63.0,\n",
              " 64.0,\n",
              " 65.0,\n",
              " 66.0,\n",
              " 67.0,\n",
              " 68.0,\n",
              " 69.0,\n",
              " 70.0,\n",
              " 71.0,\n",
              " 72.0,\n",
              " 73.0,\n",
              " 74.0,\n",
              " 75.0,\n",
              " 76.0,\n",
              " 77.0,\n",
              " 78.0,\n",
              " 79.0,\n",
              " 80.0,\n",
              " 81.0,\n",
              " 82.0,\n",
              " 83.0,\n",
              " 84.0,\n",
              " 85.0,\n",
              " 86.0,\n",
              " 87.0,\n",
              " 88.0,\n",
              " 89.0,\n",
              " 90.0,\n",
              " 91.0,\n",
              " 92.0,\n",
              " 93.0,\n",
              " 94.0,\n",
              " 95.0,\n",
              " 96.0,\n",
              " 97.0,\n",
              " 98.0,\n",
              " 99.0,\n",
              " 100.0,\n",
              " 101.0,\n",
              " 102.0,\n",
              " 103.0,\n",
              " 104.0,\n",
              " 105.0,\n",
              " 106.0,\n",
              " 107.0,\n",
              " 108.0,\n",
              " 109.0,\n",
              " 110.0,\n",
              " 111.0,\n",
              " 113.0,\n",
              " 114.0,\n",
              " 115.0,\n",
              " 116.0,\n",
              " 118.0,\n",
              " 119.0,\n",
              " 123.0,\n",
              " 124.0,\n",
              " 127.0,\n",
              " 128.0,\n",
              " 132.0,\n",
              " 133.0,\n",
              " 136.0,\n",
              " 137.0,\n",
              " 138.0,\n",
              " 140.0,\n",
              " 141.0,\n",
              " 143.0,\n",
              " 146.0,\n",
              " 147.0,\n",
              " 148.0,\n",
              " 151.0,\n",
              " 152.0,\n",
              " 156.0,\n",
              " 157.0,\n",
              " 159.0,\n",
              " 162.0,\n",
              " 168.0,\n",
              " 172.0,\n",
              " 175.0,\n",
              " 183.0,\n",
              " 186.0,\n",
              " 189.0,\n",
              " 199.0,\n",
              " 200.0,\n",
              " 201.0,\n",
              " 204.0,\n",
              " 207.0,\n",
              " 208.0,\n",
              " 209.0,\n",
              " 210.0,\n",
              " 212.0,\n",
              " 219.0,\n",
              " 220.0,\n",
              " 223.0,\n",
              " 226.0,\n",
              " 228.0,\n",
              " 229.0,\n",
              " 230.0,\n",
              " 231.0,\n",
              " 237.0,\n",
              " 239.0,\n",
              " 244.0]"
            ]
          },
          "metadata": {}
        }
      ]
    },
    {
      "cell_type": "markdown",
      "metadata": {
        "id": "r31GCEGfm8cf"
      },
      "source": [
        "It is best to adjust Users Dataset to be associated with 10 < Age < 100 only => Considered children - adults age"
      ]
    },
    {
      "cell_type": "code",
      "metadata": {
        "colab": {
          "base_uri": "https://localhost:8080/"
        },
        "id": "KkbJ82otTBJR",
        "outputId": "f7ce9503-d89c-4f51-944a-d35f09855591"
      },
      "source": [
        "users.loc[(users['Age']<10) | (users['Age']>100), 'Age'] = np.nan\n",
        "users['Age'].describe()"
      ],
      "execution_count": null,
      "outputs": [
        {
          "output_type": "execute_result",
          "data": {
            "text/plain": [
              "count    166661.000000\n",
              "mean         34.777122\n",
              "std          13.610190\n",
              "min          10.000000\n",
              "25%          24.000000\n",
              "50%          32.000000\n",
              "75%          44.000000\n",
              "max         100.000000\n",
              "Name: Age, dtype: float64"
            ]
          },
          "metadata": {},
          "execution_count": 19
        }
      ]
    },
    {
      "cell_type": "markdown",
      "metadata": {
        "id": "zokotQR0nWQF"
      },
      "source": [
        "Making Histogram to show data distribution => Most customer are between 20 - 30"
      ]
    },
    {
      "cell_type": "code",
      "metadata": {
        "colab": {
          "base_uri": "https://localhost:8080/",
          "height": 606
        },
        "id": "VWDXLMHQYAn0",
        "outputId": "c1fb2176-4164-4ab8-c7d1-7f66764247d5"
      },
      "source": [
        "data = users['Age'].value_counts()\n",
        "plt.figure(figsize=(20, 10))\n",
        "plt.bar(data.index, data.values)\n",
        "plt.xlabel('Age')\n",
        "plt.ylabel('Count')\n",
        "plt.show()"
      ],
      "execution_count": null,
      "outputs": [
        {
          "output_type": "display_data",
          "data": {
            "image/png": "[encoded data removed]",
            "text/plain": [
              "<Figure size 1440x720 with 1 Axes>"
            ]
          },
          "metadata": {
            "needs_background": "light"
          }
        }
      ]
    },
    {
      "cell_type": "markdown",
      "metadata": {
        "id": "zL78faTunbIy"
      },
      "source": [
        "Calculate how many null values in Age Column and calculate the percentage it takes the entire dataset => It is a lot with 67 % => Decided not to drop instead"
      ]
    },
    {
      "cell_type": "code",
      "metadata": {
        "colab": {
          "base_uri": "https://localhost:8080/"
        },
        "id": "PZGJyEz2ZNBe",
        "outputId": "85fbb8a7-0d89-4d53-8420-00806764d636"
      },
      "source": [
        "null_age_count = users['Age'].isnull().sum()\n",
        "total_age_count = users['Age'].count()\n",
        "total_percent = (null_age_count/total_age_count) * 100\n",
        "total_percent\n",
        "print(f'Total percent of null value in Users Data: {total_percent:.2f}%')"
      ],
      "execution_count": null,
      "outputs": [
        {
          "output_type": "stream",
          "name": "stdout",
          "text": [
            "Total percent of null value in Users Data: 67.32%\n"
          ]
        }
      ]
    },
    {
      "cell_type": "markdown",
      "metadata": {
        "id": "dxEq9phsnoV_"
      },
      "source": [
        "## **Preprocessing Books Data**"
      ]
    },
    {
      "cell_type": "code",
      "metadata": {
        "colab": {
          "base_uri": "https://localhost:8080/"
        },
        "id": "jcSsRjfwbBgh",
        "outputId": "6a6b3354-f8fa-4f02-c82a-25794dc0b6ed"
      },
      "source": [
        "books.dtypes"
      ],
      "execution_count": null,
      "outputs": [
        {
          "output_type": "execute_result",
          "data": {
            "text/plain": [
              "ISBN                   object\n",
              "Book-Title             object\n",
              "Book-Author            object\n",
              "Year-Of-Publication    object\n",
              "Publisher              object\n",
              "Image-URL-S            object\n",
              "Image-URL-M            object\n",
              "Image-URL-L            object\n",
              "dtype: object"
            ]
          },
          "metadata": {},
          "execution_count": 22
        }
      ]
    },
    {
      "cell_type": "markdown",
      "metadata": {
        "id": "LUBtv23YmaaI"
      },
      "source": [
        "***First, inspect ISBN Field***"
      ]
    },
    {
      "cell_type": "markdown",
      "metadata": {
        "id": "VajFTIJgnNvh"
      },
      "source": [
        "Check for duplicated values => Looks like there is none"
      ]
    },
    {
      "cell_type": "code",
      "metadata": {
        "colab": {
          "base_uri": "https://localhost:8080/"
        },
        "id": "Yu2fen4cmfFu",
        "outputId": "eeaee25e-fab6-4f88-f84f-8466284028b2"
      },
      "source": [
        "unique_ISBN = books.ISBN.nunique()\n",
        "all_ISBN = books.ISBN.count()\n",
        "print(\"ISBN Unique Number: \" + str(unique_ISBN))\n",
        "print(\"All ISBN Number: \" + str(all_ISBN))"
      ],
      "execution_count": null,
      "outputs": [
        {
          "output_type": "stream",
          "name": "stdout",
          "text": [
            "ISBN Unique Number: 271360\n",
            "All ISBN Number: 271360\n"
          ]
        }
      ]
    },
    {
      "cell_type": "markdown",
      "metadata": {
        "id": "PDGc0IVbtRPO"
      },
      "source": [
        "***Next, inspect Book Title Field***"
      ]
    },
    {
      "cell_type": "markdown",
      "metadata": {
        "id": "FtzYmEaBth71"
      },
      "source": [
        "Check whether it has empty field or not => There is none"
      ]
    },
    {
      "cell_type": "code",
      "metadata": {
        "colab": {
          "base_uri": "https://localhost:8080/",
          "height": 49
        },
        "id": "nXW99BXZc4Lc",
        "outputId": "826b0815-d250-42ac-b0a0-09e6a0f3d677"
      },
      "source": [
        "empty_string_title = books[books['Book-Title'] == '']\n",
        "empty_string_title.head()"
      ],
      "execution_count": null,
      "outputs": [
        {
          "output_type": "execute_result",
          "data": {
            "text/html": [
              "<div>\n",
              "<style scoped>\n",
              "    .dataframe tbody tr th:only-of-type {\n",
              "        vertical-align: middle;\n",
              "    }\n",
              "\n",
              "    .dataframe tbody tr th {\n",
              "        vertical-align: top;\n",
              "    }\n",
              "\n",
              "    .dataframe thead th {\n",
              "        text-align: right;\n",
              "    }\n",
              "</style>\n",
              "<table border=\"1\" class=\"dataframe\">\n",
              "  <thead>\n",
              "    <tr style=\"text-align: right;\">\n",
              "      <th></th>\n",
              "      <th>ISBN</th>\n",
              "      <th>Book-Title</th>\n",
              "      <th>Book-Author</th>\n",
              "      <th>Year-Of-Publication</th>\n",
              "      <th>Publisher</th>\n",
              "      <th>Image-URL-S</th>\n",
              "      <th>Image-URL-M</th>\n",
              "      <th>Image-URL-L</th>\n",
              "    </tr>\n",
              "  </thead>\n",
              "  <tbody>\n",
              "  </tbody>\n",
              "</table>\n",
              "</div>"
            ],
            "text/plain": [
              "Empty DataFrame\n",
              "Columns: [ISBN, Book-Title, Book-Author, Year-Of-Publication, Publisher, Image-URL-S, Image-URL-M, Image-URL-L]\n",
              "Index: []"
            ]
          },
          "metadata": {},
          "execution_count": 24
        }
      ]
    },
    {
      "cell_type": "markdown",
      "metadata": {
        "id": "L8Psg7J_peo0"
      },
      "source": [
        "Check to see if there is duplicated values in books or not => Looks like a lot"
      ]
    },
    {
      "cell_type": "code",
      "metadata": {
        "colab": {
          "base_uri": "https://localhost:8080/"
        },
        "id": "R4BpWk6Xuryl",
        "outputId": "e624199c-c93c-4cc1-ed10-23462be67a7a"
      },
      "source": [
        "top_book_titles = books['Book-Title'].value_counts()[:10]\n",
        "print(\"Top Duplicated Book Title:\")\n",
        "print(top_book_titles)"
      ],
      "execution_count": null,
      "outputs": [
        {
          "output_type": "stream",
          "name": "stdout",
          "text": [
            "Top Duplicated Book Title:\n",
            "Selected Poems                    27\n",
            "Little Women                      24\n",
            "Wuthering Heights                 21\n",
            "Adventures of Huckleberry Finn    20\n",
            "Dracula                           20\n",
            "The Secret Garden                 20\n",
            "Jane Eyre                         19\n",
            "The Night Before Christmas        18\n",
            "Pride and Prejudice               18\n",
            "Great Expectations                17\n",
            "Name: Book-Title, dtype: int64\n"
          ]
        }
      ]
    },
    {
      "cell_type": "markdown",
      "metadata": {
        "id": "LemP0L8aqUzD"
      },
      "source": [
        "Check out the book title with above least amount of duplicated values - Masquerade => As it turned out, this books has a lot of different version being published different year => Hence explained why there are many different ISBNs"
      ]
    },
    {
      "cell_type": "code",
      "metadata": {
        "colab": {
          "base_uri": "https://localhost:8080/",
          "height": 863
        },
        "id": "ijTkRBMZpyjE",
        "outputId": "224c322c-1cfa-4e6a-b184-a8a6a03dd66e"
      },
      "source": [
        "display(books[books['Book-Title']=='Masquerade'])"
      ],
      "execution_count": null,
      "outputs": [
        {
          "output_type": "display_data",
          "data": {
            "text/html": [
              "<div>\n",
              "<style scoped>\n",
              "    .dataframe tbody tr th:only-of-type {\n",
              "        vertical-align: middle;\n",
              "    }\n",
              "\n",
              "    .dataframe tbody tr th {\n",
              "        vertical-align: top;\n",
              "    }\n",
              "\n",
              "    .dataframe thead th {\n",
              "        text-align: right;\n",
              "    }\n",
              "</style>\n",
              "<table border=\"1\" class=\"dataframe\">\n",
              "  <thead>\n",
              "    <tr style=\"text-align: right;\">\n",
              "      <th></th>\n",
              "      <th>ISBN</th>\n",
              "      <th>Book-Title</th>\n",
              "      <th>Book-Author</th>\n",
              "      <th>Year-Of-Publication</th>\n",
              "      <th>Publisher</th>\n",
              "      <th>Image-URL-S</th>\n",
              "      <th>Image-URL-M</th>\n",
              "      <th>Image-URL-L</th>\n",
              "    </tr>\n",
              "  </thead>\n",
              "  <tbody>\n",
              "    <tr>\n",
              "      <th>6665</th>\n",
              "      <td>042516019X</td>\n",
              "      <td>Masquerade</td>\n",
              "      <td>Gayle Lynds</td>\n",
              "      <td>1997</td>\n",
              "      <td>Berkley Publishing Group</td>\n",
              "      <td>http://images.amazon.com/images/P/042516019X.0...</td>\n",
              "      <td>http://images.amazon.com/images/P/042516019X.0...</td>\n",
              "      <td>http://images.amazon.com/images/P/042516019X.0...</td>\n",
              "    </tr>\n",
              "    <tr>\n",
              "      <th>9973</th>\n",
              "      <td>0316171476</td>\n",
              "      <td>Masquerade</td>\n",
              "      <td>Janet Dailey</td>\n",
              "      <td>1991</td>\n",
              "      <td>Little, Brown</td>\n",
              "      <td>http://images.amazon.com/images/P/0316171476.0...</td>\n",
              "      <td>http://images.amazon.com/images/P/0316171476.0...</td>\n",
              "      <td>http://images.amazon.com/images/P/0316171476.0...</td>\n",
              "    </tr>\n",
              "    <tr>\n",
              "      <th>32792</th>\n",
              "      <td>080523747X</td>\n",
              "      <td>Masquerade</td>\n",
              "      <td>Kit Williams</td>\n",
              "      <td>1984</td>\n",
              "      <td>Schocken Books</td>\n",
              "      <td>http://images.amazon.com/images/P/080523747X.0...</td>\n",
              "      <td>http://images.amazon.com/images/P/080523747X.0...</td>\n",
              "      <td>http://images.amazon.com/images/P/080523747X.0...</td>\n",
              "    </tr>\n",
              "    <tr>\n",
              "      <th>34258</th>\n",
              "      <td>0821728334</td>\n",
              "      <td>Masquerade</td>\n",
              "      <td>Lowell Cauffiel</td>\n",
              "      <td>1989</td>\n",
              "      <td>Zebra Books</td>\n",
              "      <td>http://images.amazon.com/images/P/0821728334.0...</td>\n",
              "      <td>http://images.amazon.com/images/P/0821728334.0...</td>\n",
              "      <td>http://images.amazon.com/images/P/0821728334.0...</td>\n",
              "    </tr>\n",
              "    <tr>\n",
              "      <th>43592</th>\n",
              "      <td>0897330137</td>\n",
              "      <td>Masquerade</td>\n",
              "      <td>Sarah Hobson</td>\n",
              "      <td>1982</td>\n",
              "      <td>Academy Chicago Publishers</td>\n",
              "      <td>http://images.amazon.com/images/P/0897330137.0...</td>\n",
              "      <td>http://images.amazon.com/images/P/0897330137.0...</td>\n",
              "      <td>http://images.amazon.com/images/P/0897330137.0...</td>\n",
              "    </tr>\n",
              "    <tr>\n",
              "      <th>47422</th>\n",
              "      <td>0425117405</td>\n",
              "      <td>Masquerade</td>\n",
              "      <td>Serena Richards</td>\n",
              "      <td>1989</td>\n",
              "      <td>Berkley Pub Group</td>\n",
              "      <td>http://images.amazon.com/images/P/0425117405.0...</td>\n",
              "      <td>http://images.amazon.com/images/P/0425117405.0...</td>\n",
              "      <td>http://images.amazon.com/images/P/0425117405.0...</td>\n",
              "    </tr>\n",
              "    <tr>\n",
              "      <th>51707</th>\n",
              "      <td>0345366204</td>\n",
              "      <td>Masquerade</td>\n",
              "      <td>William X. Kienzle</td>\n",
              "      <td>1991</td>\n",
              "      <td>Fawcett Books</td>\n",
              "      <td>http://images.amazon.com/images/P/0345366204.0...</td>\n",
              "      <td>http://images.amazon.com/images/P/0345366204.0...</td>\n",
              "      <td>http://images.amazon.com/images/P/0345366204.0...</td>\n",
              "    </tr>\n",
              "    <tr>\n",
              "      <th>53579</th>\n",
              "      <td>0786015047</td>\n",
              "      <td>Masquerade</td>\n",
              "      <td>Lowell Cauffiel</td>\n",
              "      <td>2001</td>\n",
              "      <td>Pinnacle Books (Mm)</td>\n",
              "      <td>http://images.amazon.com/images/P/0786015047.0...</td>\n",
              "      <td>http://images.amazon.com/images/P/0786015047.0...</td>\n",
              "      <td>http://images.amazon.com/images/P/0786015047.0...</td>\n",
              "    </tr>\n",
              "    <tr>\n",
              "      <th>82989</th>\n",
              "      <td>0312969899</td>\n",
              "      <td>Masquerade</td>\n",
              "      <td>Walter Satterthwait</td>\n",
              "      <td>1999</td>\n",
              "      <td>St. Martin's Paperbacks</td>\n",
              "      <td>http://images.amazon.com/images/P/0312969899.0...</td>\n",
              "      <td>http://images.amazon.com/images/P/0312969899.0...</td>\n",
              "      <td>http://images.amazon.com/images/P/0312969899.0...</td>\n",
              "    </tr>\n",
              "    <tr>\n",
              "      <th>85620</th>\n",
              "      <td>0786004681</td>\n",
              "      <td>Masquerade</td>\n",
              "      <td>Lowell Cauffiel</td>\n",
              "      <td>1997</td>\n",
              "      <td>Pinnacle Books</td>\n",
              "      <td>http://images.amazon.com/images/P/0786004681.0...</td>\n",
              "      <td>http://images.amazon.com/images/P/0786004681.0...</td>\n",
              "      <td>http://images.amazon.com/images/P/0786004681.0...</td>\n",
              "    </tr>\n",
              "    <tr>\n",
              "      <th>104482</th>\n",
              "      <td>0316171425</td>\n",
              "      <td>Masquerade</td>\n",
              "      <td>Janet Dailey</td>\n",
              "      <td>1990</td>\n",
              "      <td>Little Brown &amp;amp; Co</td>\n",
              "      <td>http://images.amazon.com/images/P/0316171425.0...</td>\n",
              "      <td>http://images.amazon.com/images/P/0316171425.0...</td>\n",
              "      <td>http://images.amazon.com/images/P/0316171425.0...</td>\n",
              "    </tr>\n",
              "    <tr>\n",
              "      <th>121316</th>\n",
              "      <td>0385479611</td>\n",
              "      <td>Masquerade</td>\n",
              "      <td>Gayle Lynds</td>\n",
              "      <td>1996</td>\n",
              "      <td>Bantam Dell Pub Group</td>\n",
              "      <td>http://images.amazon.com/images/P/0385479611.0...</td>\n",
              "      <td>http://images.amazon.com/images/P/0385479611.0...</td>\n",
              "      <td>http://images.amazon.com/images/P/0385479611.0...</td>\n",
              "    </tr>\n",
              "    <tr>\n",
              "      <th>136493</th>\n",
              "      <td>084394577X</td>\n",
              "      <td>Masquerade</td>\n",
              "      <td>Katherine Deauxville</td>\n",
              "      <td>1999</td>\n",
              "      <td>Leisure Books</td>\n",
              "      <td>http://images.amazon.com/images/P/084394577X.0...</td>\n",
              "      <td>http://images.amazon.com/images/P/084394577X.0...</td>\n",
              "      <td>http://images.amazon.com/images/P/084394577X.0...</td>\n",
              "    </tr>\n",
              "    <tr>\n",
              "      <th>143480</th>\n",
              "      <td>0312986033</td>\n",
              "      <td>Masquerade</td>\n",
              "      <td>Gayle Lynds</td>\n",
              "      <td>2004</td>\n",
              "      <td>St. Martin's Paperbacks</td>\n",
              "      <td>http://images.amazon.com/images/P/0312986033.0...</td>\n",
              "      <td>http://images.amazon.com/images/P/0312986033.0...</td>\n",
              "      <td>http://images.amazon.com/images/P/0312986033.0...</td>\n",
              "    </tr>\n",
              "    <tr>\n",
              "      <th>145961</th>\n",
              "      <td>0451407016</td>\n",
              "      <td>Masquerade</td>\n",
              "      <td>Mary Kingsley</td>\n",
              "      <td>1997</td>\n",
              "      <td>Topaz</td>\n",
              "      <td>http://images.amazon.com/images/P/0451407016.0...</td>\n",
              "      <td>http://images.amazon.com/images/P/0451407016.0...</td>\n",
              "      <td>http://images.amazon.com/images/P/0451407016.0...</td>\n",
              "    </tr>\n",
              "    <tr>\n",
              "      <th>217843</th>\n",
              "      <td>0786000805</td>\n",
              "      <td>Masquerade</td>\n",
              "      <td>Alexa Smart</td>\n",
              "      <td>1994</td>\n",
              "      <td>Pinnacle Books</td>\n",
              "      <td>http://images.amazon.com/images/P/0786000805.0...</td>\n",
              "      <td>http://images.amazon.com/images/P/0786000805.0...</td>\n",
              "      <td>http://images.amazon.com/images/P/0786000805.0...</td>\n",
              "    </tr>\n",
              "  </tbody>\n",
              "</table>\n",
              "</div>"
            ],
            "text/plain": [
              "              ISBN  ...                                        Image-URL-L\n",
              "6665    042516019X  ...  http://images.amazon.com/images/P/042516019X.0...\n",
              "9973    0316171476  ...  http://images.amazon.com/images/P/0316171476.0...\n",
              "32792   080523747X  ...  http://images.amazon.com/images/P/080523747X.0...\n",
              "34258   0821728334  ...  http://images.amazon.com/images/P/0821728334.0...\n",
              "43592   0897330137  ...  http://images.amazon.com/images/P/0897330137.0...\n",
              "47422   0425117405  ...  http://images.amazon.com/images/P/0425117405.0...\n",
              "51707   0345366204  ...  http://images.amazon.com/images/P/0345366204.0...\n",
              "53579   0786015047  ...  http://images.amazon.com/images/P/0786015047.0...\n",
              "82989   0312969899  ...  http://images.amazon.com/images/P/0312969899.0...\n",
              "85620   0786004681  ...  http://images.amazon.com/images/P/0786004681.0...\n",
              "104482  0316171425  ...  http://images.amazon.com/images/P/0316171425.0...\n",
              "121316  0385479611  ...  http://images.amazon.com/images/P/0385479611.0...\n",
              "136493  084394577X  ...  http://images.amazon.com/images/P/084394577X.0...\n",
              "143480  0312986033  ...  http://images.amazon.com/images/P/0312986033.0...\n",
              "145961  0451407016  ...  http://images.amazon.com/images/P/0451407016.0...\n",
              "217843  0786000805  ...  http://images.amazon.com/images/P/0786000805.0...\n",
              "\n",
              "[16 rows x 8 columns]"
            ]
          },
          "metadata": {}
        }
      ]
    },
    {
      "cell_type": "markdown",
      "metadata": {
        "id": "qdtkupG6rXX1"
      },
      "source": [
        "It is best to keep those duplicated Book Title values since books would often have some changes in translation and appearance => Would definetely affect rating scale as well"
      ]
    },
    {
      "cell_type": "markdown",
      "metadata": {
        "id": "WzWUNDAjtOZk"
      },
      "source": [
        "***Next, inspect Book Author Field***"
      ]
    },
    {
      "cell_type": "markdown",
      "metadata": {
        "id": "BspU3b2FtguH"
      },
      "source": [
        "Check whether it has empty field or not => There is none"
      ]
    },
    {
      "cell_type": "code",
      "metadata": {
        "colab": {
          "base_uri": "https://localhost:8080/",
          "height": 49
        },
        "id": "GcFVddOPcoRW",
        "outputId": "03f5fb9c-1922-4329-fdf3-f132c8734e18"
      },
      "source": [
        "empty_string_author = books[books['Book-Author'] == '']\n",
        "empty_string_author.head()"
      ],
      "execution_count": null,
      "outputs": [
        {
          "output_type": "execute_result",
          "data": {
            "text/html": [
              "<div>\n",
              "<style scoped>\n",
              "    .dataframe tbody tr th:only-of-type {\n",
              "        vertical-align: middle;\n",
              "    }\n",
              "\n",
              "    .dataframe tbody tr th {\n",
              "        vertical-align: top;\n",
              "    }\n",
              "\n",
              "    .dataframe thead th {\n",
              "        text-align: right;\n",
              "    }\n",
              "</style>\n",
              "<table border=\"1\" class=\"dataframe\">\n",
              "  <thead>\n",
              "    <tr style=\"text-align: right;\">\n",
              "      <th></th>\n",
              "      <th>ISBN</th>\n",
              "      <th>Book-Title</th>\n",
              "      <th>Book-Author</th>\n",
              "      <th>Year-Of-Publication</th>\n",
              "      <th>Publisher</th>\n",
              "      <th>Image-URL-S</th>\n",
              "      <th>Image-URL-M</th>\n",
              "      <th>Image-URL-L</th>\n",
              "    </tr>\n",
              "  </thead>\n",
              "  <tbody>\n",
              "  </tbody>\n",
              "</table>\n",
              "</div>"
            ],
            "text/plain": [
              "Empty DataFrame\n",
              "Columns: [ISBN, Book-Title, Book-Author, Year-Of-Publication, Publisher, Image-URL-S, Image-URL-M, Image-URL-L]\n",
              "Index: []"
            ]
          },
          "metadata": {},
          "execution_count": 27
        }
      ]
    },
    {
      "cell_type": "markdown",
      "metadata": {
        "id": "vChOm8pcszyF"
      },
      "source": [
        "Check the top 10 authors of books in this dataset"
      ]
    },
    {
      "cell_type": "code",
      "metadata": {
        "colab": {
          "base_uri": "https://localhost:8080/"
        },
        "id": "J0IA2bwkuOng",
        "outputId": "093e5dc6-0a42-4859-bfe6-0b9f0b0e06cf"
      },
      "source": [
        "top_book_authors = books['Book-Author'].value_counts()[:10]\n",
        "print(\"Top 10 Authors with Most Entries:\")\n",
        "print(top_book_authors)"
      ],
      "execution_count": null,
      "outputs": [
        {
          "output_type": "stream",
          "name": "stdout",
          "text": [
            "Top 10 Authors with Most Entries:\n",
            "Agatha Christie        632\n",
            "William Shakespeare    567\n",
            "Stephen King           524\n",
            "Ann M. Martin          423\n",
            "Carolyn Keene          373\n",
            "Francine Pascal        372\n",
            "Isaac Asimov           330\n",
            "Nora Roberts           315\n",
            "Barbara Cartland       307\n",
            "Charles Dickens        302\n",
            "Name: Book-Author, dtype: int64\n"
          ]
        }
      ]
    },
    {
      "cell_type": "markdown",
      "metadata": {
        "id": "l4VHf5GkpnZI"
      },
      "source": [
        "***Next, inspect Year Of Publication Field***"
      ]
    },
    {
      "cell_type": "markdown",
      "metadata": {
        "id": "G3AcQWWIntfY"
      },
      "source": [
        "Transform Year Of Publication from object to float type since the entire data contains only numbers"
      ]
    },
    {
      "cell_type": "code",
      "metadata": {
        "id": "Q0NAc980hh-L"
      },
      "source": [
        "books['Year-Of-Publication'] = pd.to_numeric(books['Year-Of-Publication'], errors='coerce', downcast='signed')"
      ],
      "execution_count": null,
      "outputs": []
    },
    {
      "cell_type": "markdown",
      "metadata": {
        "id": "Jz2U89v8n6s9"
      },
      "source": [
        "Check Year Of Publication Field => Looks like 0 is existed"
      ]
    },
    {
      "cell_type": "code",
      "metadata": {
        "colab": {
          "base_uri": "https://localhost:8080/"
        },
        "id": "IYDA8e-_LmYD",
        "outputId": "f8c3b083-88ba-4244-dd4c-ccf0fc2cd4a6"
      },
      "source": [
        "books['Year-Of-Publication'].describe()"
      ],
      "execution_count": null,
      "outputs": [
        {
          "output_type": "execute_result",
          "data": {
            "text/plain": [
              "count    271357.000000\n",
              "mean       1959.760817\n",
              "std         257.994226\n",
              "min           0.000000\n",
              "25%        1989.000000\n",
              "50%        1995.000000\n",
              "75%        2000.000000\n",
              "max        2050.000000\n",
              "Name: Year-Of-Publication, dtype: float64"
            ]
          },
          "metadata": {},
          "execution_count": 30
        }
      ]
    },
    {
      "cell_type": "markdown",
      "metadata": {
        "id": "eINaBXNQoQhY"
      },
      "source": [
        "Replaced all rows of Year Of Publication with 0 with Nan since it is unknown and would not interference with any working algorithm\n"
      ]
    },
    {
      "cell_type": "code",
      "metadata": {
        "id": "8026lX-GMUVW"
      },
      "source": [
        "books.loc[books['Year-Of-Publication'] == 0] = np.nan"
      ],
      "execution_count": null,
      "outputs": []
    },
    {
      "cell_type": "markdown",
      "metadata": {
        "id": "xcTXWQy1o3EV"
      },
      "source": [
        "Check Year Of Publication Field again"
      ]
    },
    {
      "cell_type": "code",
      "metadata": {
        "colab": {
          "base_uri": "https://localhost:8080/"
        },
        "id": "Ypnu8efNXMtC",
        "outputId": "e1be98bc-86a5-495b-b6b9-3431b4fd9b42"
      },
      "source": [
        "books['Year-Of-Publication'].describe()"
      ],
      "execution_count": null,
      "outputs": [
        {
          "output_type": "execute_result",
          "data": {
            "text/plain": [
              "count    266739.000000\n",
              "mean       1993.689772\n",
              "std           8.325811\n",
              "min        1376.000000\n",
              "25%        1989.000000\n",
              "50%        1996.000000\n",
              "75%        2000.000000\n",
              "max        2050.000000\n",
              "Name: Year-Of-Publication, dtype: float64"
            ]
          },
          "metadata": {},
          "execution_count": 32
        }
      ]
    },
    {
      "cell_type": "markdown",
      "metadata": {
        "id": "koAi3yFmo8Bn"
      },
      "source": [
        "Not sure how there is a boook with publish date with future years as indicated above it goes on until 2050 but it looks like this data set is wrong => Alice in Wonderland = 2030"
      ]
    },
    {
      "cell_type": "code",
      "metadata": {
        "colab": {
          "base_uri": "https://localhost:8080/",
          "height": 501
        },
        "id": "BsB4Ql65WU7c",
        "outputId": "bcda5d20-0d95-4c50-8ee5-d44983b66b06"
      },
      "source": [
        "future_books = books[books['Year-Of-Publication']>2021]\n",
        "future_books.head()"
      ],
      "execution_count": null,
      "outputs": [
        {
          "output_type": "execute_result",
          "data": {
            "text/html": [
              "<div>\n",
              "<style scoped>\n",
              "    .dataframe tbody tr th:only-of-type {\n",
              "        vertical-align: middle;\n",
              "    }\n",
              "\n",
              "    .dataframe tbody tr th {\n",
              "        vertical-align: top;\n",
              "    }\n",
              "\n",
              "    .dataframe thead th {\n",
              "        text-align: right;\n",
              "    }\n",
              "</style>\n",
              "<table border=\"1\" class=\"dataframe\">\n",
              "  <thead>\n",
              "    <tr style=\"text-align: right;\">\n",
              "      <th></th>\n",
              "      <th>ISBN</th>\n",
              "      <th>Book-Title</th>\n",
              "      <th>Book-Author</th>\n",
              "      <th>Year-Of-Publication</th>\n",
              "      <th>Publisher</th>\n",
              "      <th>Image-URL-S</th>\n",
              "      <th>Image-URL-M</th>\n",
              "      <th>Image-URL-L</th>\n",
              "    </tr>\n",
              "  </thead>\n",
              "  <tbody>\n",
              "    <tr>\n",
              "      <th>37487</th>\n",
              "      <td>0671746103</td>\n",
              "      <td>MY TEACHER FRIED MY BRAINS (RACK SIZE) (MY TEA...</td>\n",
              "      <td>Coville</td>\n",
              "      <td>2030.0</td>\n",
              "      <td>Aladdin</td>\n",
              "      <td>http://images.amazon.com/images/P/0671746103.0...</td>\n",
              "      <td>http://images.amazon.com/images/P/0671746103.0...</td>\n",
              "      <td>http://images.amazon.com/images/P/0671746103.0...</td>\n",
              "    </tr>\n",
              "    <tr>\n",
              "      <th>55676</th>\n",
              "      <td>0671791990</td>\n",
              "      <td>MY TEACHER FLUNKED THE PLANET (RACK SIZE) (MY ...</td>\n",
              "      <td>Bruce Coville</td>\n",
              "      <td>2030.0</td>\n",
              "      <td>Aladdin</td>\n",
              "      <td>http://images.amazon.com/images/P/0671791990.0...</td>\n",
              "      <td>http://images.amazon.com/images/P/0671791990.0...</td>\n",
              "      <td>http://images.amazon.com/images/P/0671791990.0...</td>\n",
              "    </tr>\n",
              "    <tr>\n",
              "      <th>78168</th>\n",
              "      <td>0870449842</td>\n",
              "      <td>Crossing America</td>\n",
              "      <td>National Geographic Society</td>\n",
              "      <td>2030.0</td>\n",
              "      <td>National Geographic</td>\n",
              "      <td>http://images.amazon.com/images/P/0870449842.0...</td>\n",
              "      <td>http://images.amazon.com/images/P/0870449842.0...</td>\n",
              "      <td>http://images.amazon.com/images/P/0870449842.0...</td>\n",
              "    </tr>\n",
              "    <tr>\n",
              "      <th>80264</th>\n",
              "      <td>0140301690</td>\n",
              "      <td>Alice's Adventures in Wonderland and Through t...</td>\n",
              "      <td>Lewis Carroll</td>\n",
              "      <td>2050.0</td>\n",
              "      <td>Puffin Books</td>\n",
              "      <td>http://images.amazon.com/images/P/0140301690.0...</td>\n",
              "      <td>http://images.amazon.com/images/P/0140301690.0...</td>\n",
              "      <td>http://images.amazon.com/images/P/0140301690.0...</td>\n",
              "    </tr>\n",
              "    <tr>\n",
              "      <th>97826</th>\n",
              "      <td>0140201092</td>\n",
              "      <td>Outline of European Architecture (Pelican S.)</td>\n",
              "      <td>Nikolaus Pevsner</td>\n",
              "      <td>2050.0</td>\n",
              "      <td>Penguin USA</td>\n",
              "      <td>http://images.amazon.com/images/P/0140201092.0...</td>\n",
              "      <td>http://images.amazon.com/images/P/0140201092.0...</td>\n",
              "      <td>http://images.amazon.com/images/P/0140201092.0...</td>\n",
              "    </tr>\n",
              "  </tbody>\n",
              "</table>\n",
              "</div>"
            ],
            "text/plain": [
              "             ISBN  ...                                        Image-URL-L\n",
              "37487  0671746103  ...  http://images.amazon.com/images/P/0671746103.0...\n",
              "55676  0671791990  ...  http://images.amazon.com/images/P/0671791990.0...\n",
              "78168  0870449842  ...  http://images.amazon.com/images/P/0870449842.0...\n",
              "80264  0140301690  ...  http://images.amazon.com/images/P/0140301690.0...\n",
              "97826  0140201092  ...  http://images.amazon.com/images/P/0140201092.0...\n",
              "\n",
              "[5 rows x 8 columns]"
            ]
          },
          "metadata": {},
          "execution_count": 33
        }
      ]
    },
    {
      "cell_type": "markdown",
      "metadata": {
        "id": "jt5TKHh6pCdH"
      },
      "source": [
        "Based on the above result, the minimum is too slow as well = 1376 and it is better to sort out book that is published after 1900 instead"
      ]
    },
    {
      "cell_type": "code",
      "metadata": {
        "colab": {
          "base_uri": "https://localhost:8080/",
          "height": 348
        },
        "id": "Au5KF8dxW7uC",
        "outputId": "8fc0539a-d305-4816-96bd-545fa8a97242"
      },
      "source": [
        "old_books = books[books['Year-Of-Publication']<1900]\n",
        "old_books.head()"
      ],
      "execution_count": null,
      "outputs": [
        {
          "output_type": "execute_result",
          "data": {
            "text/html": [
              "<div>\n",
              "<style scoped>\n",
              "    .dataframe tbody tr th:only-of-type {\n",
              "        vertical-align: middle;\n",
              "    }\n",
              "\n",
              "    .dataframe tbody tr th {\n",
              "        vertical-align: top;\n",
              "    }\n",
              "\n",
              "    .dataframe thead th {\n",
              "        text-align: right;\n",
              "    }\n",
              "</style>\n",
              "<table border=\"1\" class=\"dataframe\">\n",
              "  <thead>\n",
              "    <tr style=\"text-align: right;\">\n",
              "      <th></th>\n",
              "      <th>ISBN</th>\n",
              "      <th>Book-Title</th>\n",
              "      <th>Book-Author</th>\n",
              "      <th>Year-Of-Publication</th>\n",
              "      <th>Publisher</th>\n",
              "      <th>Image-URL-S</th>\n",
              "      <th>Image-URL-M</th>\n",
              "      <th>Image-URL-L</th>\n",
              "    </tr>\n",
              "  </thead>\n",
              "  <tbody>\n",
              "    <tr>\n",
              "      <th>171817</th>\n",
              "      <td>0781228956</td>\n",
              "      <td>Complete Works 10 Volumes [2,6,7,8,9] (Notable...</td>\n",
              "      <td>Benjamin Franklin</td>\n",
              "      <td>1806.0</td>\n",
              "      <td>Reprint Services Corp</td>\n",
              "      <td>http://images.amazon.com/images/P/0781228956.0...</td>\n",
              "      <td>http://images.amazon.com/images/P/0781228956.0...</td>\n",
              "      <td>http://images.amazon.com/images/P/0781228956.0...</td>\n",
              "    </tr>\n",
              "    <tr>\n",
              "      <th>227531</th>\n",
              "      <td>9643112136</td>\n",
              "      <td>Dalan-i bihisht (Dastan-i Irani)</td>\n",
              "      <td>Nazi Safavi</td>\n",
              "      <td>1378.0</td>\n",
              "      <td>Intisharat-i Quqnus</td>\n",
              "      <td>http://images.amazon.com/images/P/9643112136.0...</td>\n",
              "      <td>http://images.amazon.com/images/P/9643112136.0...</td>\n",
              "      <td>http://images.amazon.com/images/P/9643112136.0...</td>\n",
              "    </tr>\n",
              "    <tr>\n",
              "      <th>245607</th>\n",
              "      <td>0781268001</td>\n",
              "      <td>Hugh Wynne, Free Quaker (2 Volumes (BCL1-PS Am...</td>\n",
              "      <td>Silas Weir Mitchell</td>\n",
              "      <td>1897.0</td>\n",
              "      <td>Reprint Services Corp</td>\n",
              "      <td>http://images.amazon.com/images/P/0781268001.0...</td>\n",
              "      <td>http://images.amazon.com/images/P/0781268001.0...</td>\n",
              "      <td>http://images.amazon.com/images/P/0781268001.0...</td>\n",
              "    </tr>\n",
              "    <tr>\n",
              "      <th>253750</th>\n",
              "      <td>964442011X</td>\n",
              "      <td>Tasht-i khun</td>\n",
              "      <td>IsmaÂ°il Fasih</td>\n",
              "      <td>1376.0</td>\n",
              "      <td>Nashr-i Alburz</td>\n",
              "      <td>http://images.amazon.com/images/P/964442011X.0...</td>\n",
              "      <td>http://images.amazon.com/images/P/964442011X.0...</td>\n",
              "      <td>http://images.amazon.com/images/P/964442011X.0...</td>\n",
              "    </tr>\n",
              "  </tbody>\n",
              "</table>\n",
              "</div>"
            ],
            "text/plain": [
              "              ISBN  ...                                        Image-URL-L\n",
              "171817  0781228956  ...  http://images.amazon.com/images/P/0781228956.0...\n",
              "227531  9643112136  ...  http://images.amazon.com/images/P/9643112136.0...\n",
              "245607  0781268001  ...  http://images.amazon.com/images/P/0781268001.0...\n",
              "253750  964442011X  ...  http://images.amazon.com/images/P/964442011X.0...\n",
              "\n",
              "[4 rows x 8 columns]"
            ]
          },
          "metadata": {},
          "execution_count": 34
        }
      ]
    },
    {
      "cell_type": "markdown",
      "metadata": {
        "id": "aZjpLVfTpGe3"
      },
      "source": [
        "Deleted those ISBN Books not below 1900 and not above 2021"
      ]
    },
    {
      "cell_type": "code",
      "metadata": {
        "colab": {
          "base_uri": "https://localhost:8080/"
        },
        "id": "mcunZP-2X_J9",
        "outputId": "b53b82b1-c8d3-48c3-c448-336226dfcc51"
      },
      "source": [
        "books = books.loc[~(books['ISBN'].isin(old_books['ISBN']))]\n",
        "books = books.loc[~(books['ISBN'].isin(future_books['ISBN']))]\n",
        "books['Year-Of-Publication'].describe()"
      ],
      "execution_count": null,
      "outputs": [
        {
          "output_type": "execute_result",
          "data": {
            "text/plain": [
              "count    266722.000000\n",
              "mean       1993.693524\n",
              "std           8.137847\n",
              "min        1900.000000\n",
              "25%        1989.000000\n",
              "50%        1996.000000\n",
              "75%        2000.000000\n",
              "max        2021.000000\n",
              "Name: Year-Of-Publication, dtype: float64"
            ]
          },
          "metadata": {},
          "execution_count": 35
        }
      ]
    },
    {
      "cell_type": "markdown",
      "metadata": {
        "id": "wv_kZwL9pKiG"
      },
      "source": [
        "Draw the graph for Year Of Publication and it looks like mot book are between 1980 to 2005 "
      ]
    },
    {
      "cell_type": "code",
      "metadata": {
        "colab": {
          "base_uri": "https://localhost:8080/",
          "height": 606
        },
        "id": "ckAG9n9Zhpm0",
        "outputId": "8673d10f-414e-4c3f-ef3c-5bd104e70762"
      },
      "source": [
        "data = books['Year-Of-Publication'].value_counts().sort_index()\n",
        "plt.figure(figsize=(20, 10))\n",
        "plt.bar(data.index, data.values)\n",
        "plt.xlim([1900, 2021])\n",
        "plt.xlabel('Year Of Publication')\n",
        "plt.ylabel('Count')\n",
        "plt.show()"
      ],
      "execution_count": null,
      "outputs": [
        {
          "output_type": "display_data",
          "data": {
            "image/png": "[encoded data removed]",
            "text/plain": [
              "<Figure size 1440x720 with 1 Axes>"
            ]
          },
          "metadata": {
            "needs_background": "light"
          }
        }
      ]
    },
    {
      "cell_type": "markdown",
      "metadata": {
        "id": "NLid-uE8rBJ5"
      },
      "source": [
        "***Next, inspect Publisher Field***"
      ]
    },
    {
      "cell_type": "markdown",
      "metadata": {
        "id": "Uf5RCx_ysCgD"
      },
      "source": [
        "Check whether it has empty field or not => There is none"
      ]
    },
    {
      "cell_type": "code",
      "metadata": {
        "colab": {
          "base_uri": "https://localhost:8080/",
          "height": 49
        },
        "id": "s-u75XIps5_e",
        "outputId": "e3afe124-327a-470e-f494-9fab99d03fe8"
      },
      "source": [
        "empty_publishers = books[books['Publisher'] == '']\n",
        "empty_publishers.head()"
      ],
      "execution_count": null,
      "outputs": [
        {
          "output_type": "execute_result",
          "data": {
            "text/html": [
              "<div>\n",
              "<style scoped>\n",
              "    .dataframe tbody tr th:only-of-type {\n",
              "        vertical-align: middle;\n",
              "    }\n",
              "\n",
              "    .dataframe tbody tr th {\n",
              "        vertical-align: top;\n",
              "    }\n",
              "\n",
              "    .dataframe thead th {\n",
              "        text-align: right;\n",
              "    }\n",
              "</style>\n",
              "<table border=\"1\" class=\"dataframe\">\n",
              "  <thead>\n",
              "    <tr style=\"text-align: right;\">\n",
              "      <th></th>\n",
              "      <th>ISBN</th>\n",
              "      <th>Book-Title</th>\n",
              "      <th>Book-Author</th>\n",
              "      <th>Year-Of-Publication</th>\n",
              "      <th>Publisher</th>\n",
              "      <th>Image-URL-S</th>\n",
              "      <th>Image-URL-M</th>\n",
              "      <th>Image-URL-L</th>\n",
              "    </tr>\n",
              "  </thead>\n",
              "  <tbody>\n",
              "  </tbody>\n",
              "</table>\n",
              "</div>"
            ],
            "text/plain": [
              "Empty DataFrame\n",
              "Columns: [ISBN, Book-Title, Book-Author, Year-Of-Publication, Publisher, Image-URL-S, Image-URL-M, Image-URL-L]\n",
              "Index: []"
            ]
          },
          "metadata": {},
          "execution_count": 37
        }
      ]
    },
    {
      "cell_type": "code",
      "metadata": {
        "colab": {
          "base_uri": "https://localhost:8080/"
        },
        "id": "vWSnl86Tt1Bv",
        "outputId": "246fb615-cd4b-44a5-babf-18b6c2d1ddb9"
      },
      "source": [
        "top_publishers = books.Publisher.value_counts()[:10]\n",
        "print(\"Top 10 Publishers with Most Entries:\")\n",
        "print(top_publishers)"
      ],
      "execution_count": null,
      "outputs": [
        {
          "output_type": "stream",
          "name": "stdout",
          "text": [
            "Top 10 Publishers with Most Entries:\n",
            "Harlequin                   7535\n",
            "Silhouette                  4220\n",
            "Pocket                      3870\n",
            "Ballantine Books            3764\n",
            "Bantam Books                3642\n",
            "Scholastic                  3157\n",
            "Simon &amp; Schuster        2965\n",
            "Penguin Books               2843\n",
            "Berkley Publishing Group    2767\n",
            "Penguin USA                 2714\n",
            "Name: Publisher, dtype: int64\n"
          ]
        }
      ]
    },
    {
      "cell_type": "markdown",
      "metadata": {
        "id": "nkWdlQyZtMaF"
      },
      "source": [
        "***Next, inspect Image-URL-S, Image-URL-M, Image-URL-L***"
      ]
    },
    {
      "cell_type": "markdown",
      "metadata": {
        "id": "9zmK5fThtqFh"
      },
      "source": [
        "It is better to drop these fields since there is no need"
      ]
    },
    {
      "cell_type": "code",
      "metadata": {
        "id": "BpSwjJXw7eQn"
      },
      "source": [
        "books = books.drop(['Image-URL-S'], axis=1)\n",
        "books = books.drop(['Image-URL-M'], axis=1)\n",
        "books = books.drop(['Image-URL-L'], axis=1)"
      ],
      "execution_count": null,
      "outputs": []
    },
    {
      "cell_type": "markdown",
      "metadata": {
        "id": "5HzPcFlmpape"
      },
      "source": [
        "## **Preprocessing Ratings Data**"
      ]
    },
    {
      "cell_type": "code",
      "metadata": {
        "colab": {
          "base_uri": "https://localhost:8080/"
        },
        "id": "uR6XfF-qd7OH",
        "outputId": "32f5f206-9d4e-44fe-b3bb-c5250fe3cb47"
      },
      "source": [
        "ratings.dtypes"
      ],
      "execution_count": null,
      "outputs": [
        {
          "output_type": "execute_result",
          "data": {
            "text/plain": [
              "User-ID         int64\n",
              "ISBN           object\n",
              "Book-Rating     int64\n",
              "dtype: object"
            ]
          },
          "metadata": {},
          "execution_count": 40
        }
      ]
    },
    {
      "cell_type": "markdown",
      "metadata": {
        "id": "2GKV4IUip08l"
      },
      "source": [
        "***First, inspect User-ID Field***"
      ]
    },
    {
      "cell_type": "markdown",
      "metadata": {
        "id": "Fptpt8OivDlp"
      },
      "source": [
        "Check if there is any null value => Looks like none"
      ]
    },
    {
      "cell_type": "code",
      "metadata": {
        "colab": {
          "base_uri": "https://localhost:8080/",
          "height": 49
        },
        "id": "DuaPPAi1ulgU",
        "outputId": "5dd1c409-3d16-42e5-ba94-3e605ca4906f"
      },
      "source": [
        "empty_User_ID = ratings[ratings['User-ID'] == '']\n",
        "empty_User_ID.head()"
      ],
      "execution_count": null,
      "outputs": [
        {
          "output_type": "execute_result",
          "data": {
            "text/html": [
              "<div>\n",
              "<style scoped>\n",
              "    .dataframe tbody tr th:only-of-type {\n",
              "        vertical-align: middle;\n",
              "    }\n",
              "\n",
              "    .dataframe tbody tr th {\n",
              "        vertical-align: top;\n",
              "    }\n",
              "\n",
              "    .dataframe thead th {\n",
              "        text-align: right;\n",
              "    }\n",
              "</style>\n",
              "<table border=\"1\" class=\"dataframe\">\n",
              "  <thead>\n",
              "    <tr style=\"text-align: right;\">\n",
              "      <th></th>\n",
              "      <th>User-ID</th>\n",
              "      <th>ISBN</th>\n",
              "      <th>Book-Rating</th>\n",
              "    </tr>\n",
              "  </thead>\n",
              "  <tbody>\n",
              "  </tbody>\n",
              "</table>\n",
              "</div>"
            ],
            "text/plain": [
              "Empty DataFrame\n",
              "Columns: [User-ID, ISBN, Book-Rating]\n",
              "Index: []"
            ]
          },
          "metadata": {},
          "execution_count": 41
        }
      ]
    },
    {
      "cell_type": "markdown",
      "metadata": {
        "id": "Ko4MxCwbvc8c"
      },
      "source": [
        "***Next, inspect ISBN Field***"
      ]
    },
    {
      "cell_type": "markdown",
      "metadata": {
        "id": "49DIKAXGp9cU"
      },
      "source": [
        "Check 10 User ID with most ratings reviews on ISBN Field => Looks like user - 11676 has the huge ammount compared to the rest"
      ]
    },
    {
      "cell_type": "code",
      "metadata": {
        "colab": {
          "base_uri": "https://localhost:8080/"
        },
        "id": "QrPNrynDguBp",
        "outputId": "fd7a1f05-acde-4c44-f2ba-f98e82ecd451"
      },
      "source": [
        "top_users = ratings.groupby('User-ID')['ISBN'].count().sort_values(ascending=False)\n",
        "print(\"Top 10 Users with most ratings: \")\n",
        "top_users[:10]"
      ],
      "execution_count": null,
      "outputs": [
        {
          "output_type": "stream",
          "name": "stdout",
          "text": [
            "Top 10 Users with most ratings: \n"
          ]
        },
        {
          "output_type": "execute_result",
          "data": {
            "text/plain": [
              "User-ID\n",
              "11676     13602\n",
              "198711     7550\n",
              "153662     6109\n",
              "98391      5891\n",
              "35859      5850\n",
              "212898     4785\n",
              "278418     4533\n",
              "76352      3367\n",
              "110973     3100\n",
              "235105     3067\n",
              "Name: ISBN, dtype: int64"
            ]
          },
          "metadata": {},
          "execution_count": 42
        }
      ]
    },
    {
      "cell_type": "markdown",
      "metadata": {
        "id": "3_xzuiqZXb1H"
      },
      "source": [
        "Check and see the distribution of ratings => Looks like there are a lot of zero values => Not reviewed and the rating review is supposed to start from 1 to 10 => Explained why the above users have a lot of amounts as well "
      ]
    },
    {
      "cell_type": "code",
      "metadata": {
        "colab": {
          "base_uri": "https://localhost:8080/",
          "height": 606
        },
        "id": "BvY_YaE1WHQY",
        "outputId": "194452ed-877c-4ab9-f6ec-c841608d8a76"
      },
      "source": [
        "rtg = ratings['Book-Rating'].value_counts().sort_index()\n",
        "plt.figure(figsize=(20, 10))\n",
        "plt.bar(rtg.index, rtg.values)\n",
        "plt.xlabel('Rating')\n",
        "plt.ylabel('Counts')\n",
        "plt.show()"
      ],
      "execution_count": null,
      "outputs": [
        {
          "output_type": "display_data",
          "data": {
            "image/png": "[encoded data removed]",
            "text/plain": [
              "<Figure size 1440x720 with 1 Axes>"
            ]
          },
          "metadata": {
            "needs_background": "light"
          }
        }
      ]
    },
    {
      "cell_type": "markdown",
      "metadata": {
        "id": "WTKenBofYvxt"
      },
      "source": [
        "It is best to drop those zero values since it doesn't serve anything and takes a lot of space as well => Check again if zero is still existed or not on histogram"
      ]
    },
    {
      "cell_type": "code",
      "metadata": {
        "colab": {
          "base_uri": "https://localhost:8080/",
          "height": 606
        },
        "id": "b_WBedQQYL8f",
        "outputId": "aa6b5dd1-53f2-4d55-b8b9-4587939f31c5"
      },
      "source": [
        "ratings = ratings[ratings['Book-Rating'] != 0]\n",
        "rtg = ratings['Book-Rating'].value_counts().sort_index()\n",
        "plt.figure(figsize=(20, 10))\n",
        "plt.bar(rtg.index, rtg.values)\n",
        "plt.xlabel('Rating')\n",
        "plt.ylabel('Counts')\n",
        "plt.show()"
      ],
      "execution_count": null,
      "outputs": [
        {
          "output_type": "display_data",
          "data": {
            "image/png": "[encoded data removed]",
            "text/plain": [
              "<Figure size 1440x720 with 1 Axes>"
            ]
          },
          "metadata": {
            "needs_background": "light"
          }
        }
      ]
    },
    {
      "cell_type": "markdown",
      "metadata": {
        "id": "R99QvYQFvnW3"
      },
      "source": [
        "***Next, inspect Book Rating Field***"
      ]
    },
    {
      "cell_type": "markdown",
      "metadata": {
        "id": "-TN0Cs_wqA5_"
      },
      "source": [
        "Check Book Rating Column => Realize there is 0 - User has not rated the book yet "
      ]
    },
    {
      "cell_type": "code",
      "metadata": {
        "colab": {
          "base_uri": "https://localhost:8080/"
        },
        "id": "zClaG9KWifCA",
        "outputId": "68d776c9-1894-415d-81c8-ca8fc0dd0800"
      },
      "source": [
        "ratings['Book-Rating'].describe()"
      ],
      "execution_count": null,
      "outputs": [
        {
          "output_type": "execute_result",
          "data": {
            "text/plain": [
              "count    433671.000000\n",
              "mean          7.601066\n",
              "std           1.843798\n",
              "min           1.000000\n",
              "25%           7.000000\n",
              "50%           8.000000\n",
              "75%           9.000000\n",
              "max          10.000000\n",
              "Name: Book-Rating, dtype: float64"
            ]
          },
          "metadata": {},
          "execution_count": 45
        }
      ]
    },
    {
      "cell_type": "markdown",
      "metadata": {
        "id": "pRIMe671qD1v"
      },
      "source": [
        "Checked how many Book Rating data has 0 => More than half => It is better to drop those and only keep the ones with 1 to 10 rating scale"
      ]
    },
    {
      "cell_type": "code",
      "metadata": {
        "colab": {
          "base_uri": "https://localhost:8080/"
        },
        "id": "Yj7QE-d6k4p0",
        "outputId": "4d0c3e52-ef27-4aa0-8681-42c07be37b6b"
      },
      "source": [
        "with_0_ratings = ratings['Book-Rating'].count()\n",
        "without_0_ratings = ratings[ratings['Book-Rating'] != 0]['Book-Rating'].count()\n",
        "print(\"Total Count - Book Rating With Zero: \", with_0_ratings)\n",
        "print(\"Total Count - Book Rating Without Zero: \", without_0_ratings)"
      ],
      "execution_count": null,
      "outputs": [
        {
          "output_type": "stream",
          "name": "stdout",
          "text": [
            "Total Count - Book Rating With Zero:  433671\n",
            "Total Count - Book Rating Without Zero:  433671\n"
          ]
        }
      ]
    },
    {
      "cell_type": "markdown",
      "metadata": {
        "id": "tSi2-lMVqGTx"
      },
      "source": [
        "Graph Rating Data Set => It looks like most rating is above 5 - 10"
      ]
    },
    {
      "cell_type": "code",
      "metadata": {
        "colab": {
          "base_uri": "https://localhost:8080/",
          "height": 334
        },
        "id": "UwSVgaB4pDco",
        "outputId": "3625475a-d18c-4442-d2ad-1e0bf51648ed"
      },
      "source": [
        "ratings = ratings[ratings['Book-Rating'] != 0]\n",
        "data = ratings['Book-Rating'].value_counts().sort_index()\n",
        "\n",
        "plt.figure(figsize=(12, 5))\n",
        "plt.bar(data.index, data.values)\n",
        "plt.xlabel('Rating')\n",
        "plt.ylabel('Count')\n",
        "plt.show()"
      ],
      "execution_count": null,
      "outputs": [
        {
          "output_type": "display_data",
          "data": {
            "image/png": "[encoded data removed]",
            "text/plain": [
              "<Figure size 864x360 with 1 Axes>"
            ]
          },
          "metadata": {
            "needs_background": "light"
          }
        }
      ]
    },
    {
      "cell_type": "markdown",
      "metadata": {
        "id": "cmo-FDvbv7g8"
      },
      "source": [
        "## **Merge tables - Users, Books, and Ratings**"
      ]
    },
    {
      "cell_type": "markdown",
      "metadata": {
        "id": "lwvK_qVIwyF6"
      },
      "source": [
        "Check both books and ratings data size"
      ]
    },
    {
      "cell_type": "code",
      "metadata": {
        "colab": {
          "base_uri": "https://localhost:8080/"
        },
        "id": "NeNmAJjawZ5u",
        "outputId": "c6f99d7c-134a-452c-e924-12bc1fd8d631"
      },
      "source": [
        "print(f'Books Dataset Size: {len(books)}')\n",
        "print(f'Ratings Dataset Size: {len(ratings)}')"
      ],
      "execution_count": null,
      "outputs": [
        {
          "output_type": "stream",
          "name": "stdout",
          "text": [
            "Books Dataset Size: 271343\n",
            "Ratings Dataset Size: 433671\n"
          ]
        }
      ]
    },
    {
      "cell_type": "markdown",
      "metadata": {
        "id": "ltJDremawE1G"
      },
      "source": [
        "First, join the books dataset to the book_ratings dataset based the ISBN field"
      ]
    },
    {
      "cell_type": "code",
      "metadata": {
        "colab": {
          "base_uri": "https://localhost:8080/",
          "height": 206
        },
        "id": "D2yOqo03qyhL",
        "outputId": "2f31a469-f15d-4d57-f952-3149ffe7c0f0"
      },
      "source": [
        "books_with_ratings = ratings.join(books.set_index(['ISBN']), on=['ISBN'])\n",
        "books_with_ratings.head()"
      ],
      "execution_count": null,
      "outputs": [
        {
          "output_type": "execute_result",
          "data": {
            "text/html": [
              "<div>\n",
              "<style scoped>\n",
              "    .dataframe tbody tr th:only-of-type {\n",
              "        vertical-align: middle;\n",
              "    }\n",
              "\n",
              "    .dataframe tbody tr th {\n",
              "        vertical-align: top;\n",
              "    }\n",
              "\n",
              "    .dataframe thead th {\n",
              "        text-align: right;\n",
              "    }\n",
              "</style>\n",
              "<table border=\"1\" class=\"dataframe\">\n",
              "  <thead>\n",
              "    <tr style=\"text-align: right;\">\n",
              "      <th></th>\n",
              "      <th>User-ID</th>\n",
              "      <th>ISBN</th>\n",
              "      <th>Book-Rating</th>\n",
              "      <th>Book-Title</th>\n",
              "      <th>Book-Author</th>\n",
              "      <th>Year-Of-Publication</th>\n",
              "      <th>Publisher</th>\n",
              "    </tr>\n",
              "  </thead>\n",
              "  <tbody>\n",
              "    <tr>\n",
              "      <th>1</th>\n",
              "      <td>276726</td>\n",
              "      <td>0155061224</td>\n",
              "      <td>5</td>\n",
              "      <td>Rites of Passage</td>\n",
              "      <td>Judith Rae</td>\n",
              "      <td>2001.0</td>\n",
              "      <td>Heinle</td>\n",
              "    </tr>\n",
              "    <tr>\n",
              "      <th>3</th>\n",
              "      <td>276729</td>\n",
              "      <td>052165615X</td>\n",
              "      <td>3</td>\n",
              "      <td>Help!: Level 1</td>\n",
              "      <td>Philip Prowse</td>\n",
              "      <td>1999.0</td>\n",
              "      <td>Cambridge University Press</td>\n",
              "    </tr>\n",
              "    <tr>\n",
              "      <th>4</th>\n",
              "      <td>276729</td>\n",
              "      <td>0521795028</td>\n",
              "      <td>6</td>\n",
              "      <td>The Amsterdam Connection : Level 4 (Cambridge ...</td>\n",
              "      <td>Sue Leather</td>\n",
              "      <td>2001.0</td>\n",
              "      <td>Cambridge University Press</td>\n",
              "    </tr>\n",
              "    <tr>\n",
              "      <th>6</th>\n",
              "      <td>276736</td>\n",
              "      <td>3257224281</td>\n",
              "      <td>8</td>\n",
              "      <td>NaN</td>\n",
              "      <td>NaN</td>\n",
              "      <td>NaN</td>\n",
              "      <td>NaN</td>\n",
              "    </tr>\n",
              "    <tr>\n",
              "      <th>7</th>\n",
              "      <td>276737</td>\n",
              "      <td>0600570967</td>\n",
              "      <td>6</td>\n",
              "      <td>NaN</td>\n",
              "      <td>NaN</td>\n",
              "      <td>NaN</td>\n",
              "      <td>NaN</td>\n",
              "    </tr>\n",
              "  </tbody>\n",
              "</table>\n",
              "</div>"
            ],
            "text/plain": [
              "   User-ID        ISBN  ...  Year-Of-Publication                   Publisher\n",
              "1   276726  0155061224  ...               2001.0                      Heinle\n",
              "3   276729  052165615X  ...               1999.0  Cambridge University Press\n",
              "4   276729  0521795028  ...               2001.0  Cambridge University Press\n",
              "6   276736  3257224281  ...                  NaN                         NaN\n",
              "7   276737  0600570967  ...                  NaN                         NaN\n",
              "\n",
              "[5 rows x 7 columns]"
            ]
          },
          "metadata": {},
          "execution_count": 49
        }
      ]
    },
    {
      "cell_type": "markdown",
      "metadata": {
        "id": "Vj6yXlTk0VSn"
      },
      "source": [
        "***Inspect Books With Ratings Field***"
      ]
    },
    {
      "cell_type": "markdown",
      "metadata": {
        "id": "5ss94FPMxLHo"
      },
      "source": [
        "Check the size of Book With Ratings => Looks like the same as Ratings Dataset"
      ]
    },
    {
      "cell_type": "code",
      "metadata": {
        "colab": {
          "base_uri": "https://localhost:8080/"
        },
        "id": "rP4RreZewgJ1",
        "outputId": "85acb1ab-2f9e-40ad-9734-d87c69b68e9a"
      },
      "source": [
        "print(f'Book With Ratings Dataset Size: {len(books_with_ratings)}')"
      ],
      "execution_count": null,
      "outputs": [
        {
          "output_type": "stream",
          "name": "stdout",
          "text": [
            "Book With Ratings Dataset Size: 433671\n"
          ]
        }
      ]
    },
    {
      "cell_type": "markdown",
      "metadata": {
        "id": "QD8J3a-KxLmI"
      },
      "source": [
        "Since there are null values with a few ISBNs in the Ratings Dataset that did not match with the same field on Book Dataset => About 8 percent of current data => It is best to drop those fields and reduce data down as well "
      ]
    },
    {
      "cell_type": "code",
      "metadata": {
        "colab": {
          "base_uri": "https://localhost:8080/"
        },
        "id": "TYX2fHJFx2BI",
        "outputId": "4b3dfb22-24ca-4a4b-f3ae-86d909ae4b82"
      },
      "source": [
        "total_null_books = books_with_ratings['Book-Title'].isnull().sum()\n",
        "total_difference = (len(books_with_ratings))/total_null_books\n",
        "print(\"Total Null Values in Book With Ratings Data: %.2f%%\" %total_difference)"
      ],
      "execution_count": null,
      "outputs": [
        {
          "output_type": "stream",
          "name": "stdout",
          "text": [
            "Total Null Values in Book With Ratings Data: 7.79%\n"
          ]
        }
      ]
    },
    {
      "cell_type": "markdown",
      "metadata": {
        "id": "fprkMm_Sx1rD"
      },
      "source": [
        "Drop those column and check again "
      ]
    },
    {
      "cell_type": "code",
      "metadata": {
        "colab": {
          "base_uri": "https://localhost:8080/",
          "height": 206
        },
        "id": "Wyh9pzJpu2cx",
        "outputId": "38d0b0bc-cd94-45a2-f8d5-ed7537ffed96"
      },
      "source": [
        "books_with_ratings.dropna(subset=['Book-Title'], inplace=True)\n",
        "books_with_ratings.head()"
      ],
      "execution_count": null,
      "outputs": [
        {
          "output_type": "execute_result",
          "data": {
            "text/html": [
              "<div>\n",
              "<style scoped>\n",
              "    .dataframe tbody tr th:only-of-type {\n",
              "        vertical-align: middle;\n",
              "    }\n",
              "\n",
              "    .dataframe tbody tr th {\n",
              "        vertical-align: top;\n",
              "    }\n",
              "\n",
              "    .dataframe thead th {\n",
              "        text-align: right;\n",
              "    }\n",
              "</style>\n",
              "<table border=\"1\" class=\"dataframe\">\n",
              "  <thead>\n",
              "    <tr style=\"text-align: right;\">\n",
              "      <th></th>\n",
              "      <th>User-ID</th>\n",
              "      <th>ISBN</th>\n",
              "      <th>Book-Rating</th>\n",
              "      <th>Book-Title</th>\n",
              "      <th>Book-Author</th>\n",
              "      <th>Year-Of-Publication</th>\n",
              "      <th>Publisher</th>\n",
              "    </tr>\n",
              "  </thead>\n",
              "  <tbody>\n",
              "    <tr>\n",
              "      <th>1</th>\n",
              "      <td>276726</td>\n",
              "      <td>0155061224</td>\n",
              "      <td>5</td>\n",
              "      <td>Rites of Passage</td>\n",
              "      <td>Judith Rae</td>\n",
              "      <td>2001.0</td>\n",
              "      <td>Heinle</td>\n",
              "    </tr>\n",
              "    <tr>\n",
              "      <th>3</th>\n",
              "      <td>276729</td>\n",
              "      <td>052165615X</td>\n",
              "      <td>3</td>\n",
              "      <td>Help!: Level 1</td>\n",
              "      <td>Philip Prowse</td>\n",
              "      <td>1999.0</td>\n",
              "      <td>Cambridge University Press</td>\n",
              "    </tr>\n",
              "    <tr>\n",
              "      <th>4</th>\n",
              "      <td>276729</td>\n",
              "      <td>0521795028</td>\n",
              "      <td>6</td>\n",
              "      <td>The Amsterdam Connection : Level 4 (Cambridge ...</td>\n",
              "      <td>Sue Leather</td>\n",
              "      <td>2001.0</td>\n",
              "      <td>Cambridge University Press</td>\n",
              "    </tr>\n",
              "    <tr>\n",
              "      <th>8</th>\n",
              "      <td>276744</td>\n",
              "      <td>038550120X</td>\n",
              "      <td>7</td>\n",
              "      <td>A Painted House</td>\n",
              "      <td>JOHN GRISHAM</td>\n",
              "      <td>2001.0</td>\n",
              "      <td>Doubleday</td>\n",
              "    </tr>\n",
              "    <tr>\n",
              "      <th>16</th>\n",
              "      <td>276747</td>\n",
              "      <td>0060517794</td>\n",
              "      <td>9</td>\n",
              "      <td>Little Altars Everywhere</td>\n",
              "      <td>Rebecca Wells</td>\n",
              "      <td>2003.0</td>\n",
              "      <td>HarperTorch</td>\n",
              "    </tr>\n",
              "  </tbody>\n",
              "</table>\n",
              "</div>"
            ],
            "text/plain": [
              "    User-ID        ISBN  ...  Year-Of-Publication                   Publisher\n",
              "1    276726  0155061224  ...               2001.0                      Heinle\n",
              "3    276729  052165615X  ...               1999.0  Cambridge University Press\n",
              "4    276729  0521795028  ...               2001.0  Cambridge University Press\n",
              "8    276744  038550120X  ...               2001.0                   Doubleday\n",
              "16   276747  0060517794  ...               2003.0                 HarperTorch\n",
              "\n",
              "[5 rows x 7 columns]"
            ]
          },
          "metadata": {},
          "execution_count": 52
        }
      ]
    },
    {
      "cell_type": "markdown",
      "metadata": {
        "id": "_z2zdBp8x6SZ"
      },
      "source": [
        "Looks like this dataset has been reduced in size now"
      ]
    },
    {
      "cell_type": "code",
      "metadata": {
        "colab": {
          "base_uri": "https://localhost:8080/"
        },
        "id": "2iVuEgf5xv50",
        "outputId": "052364ae-1f36-4989-d96d-b649148f0684"
      },
      "source": [
        "print(f'Book With Ratings Dataset Size: {len(books_with_ratings)}')"
      ],
      "execution_count": null,
      "outputs": [
        {
          "output_type": "stream",
          "name": "stdout",
          "text": [
            "Book With Ratings Dataset Size: 378032\n"
          ]
        }
      ]
    },
    {
      "cell_type": "markdown",
      "metadata": {
        "id": "K00j_pJW24xI"
      },
      "source": [
        "Check average highest ratings with a minimum number with more than 20 reviews => Looks right since Harry Potter and The Lord of the Rings should be in high ratings since they are very popular"
      ]
    },
    {
      "cell_type": "code",
      "metadata": {
        "colab": {
          "base_uri": "https://localhost:8080/",
          "height": 225
        },
        "id": "6xD3QSul1El-",
        "outputId": "0a1dfa58-687b-41b0-feba-adbb0e7a6fbf"
      },
      "source": [
        "length = books_with_ratings['Book-Title'].value_counts()\n",
        "mean_ratings = books_with_ratings[books_with_ratings['Book-Title'].isin(length[length>20].index)].groupby('Book-Title')['Book-Rating'].mean()\n",
        "display(mean_ratings.sort_values(ascending=False)[:10])"
      ],
      "execution_count": null,
      "outputs": [
        {
          "output_type": "display_data",
          "data": {
            "text/plain": [
              "Book-Title\n",
              "Harry Potter and the Chamber of Secrets Postcard Book    9.869565\n",
              "Calvin and Hobbes                                        9.583333\n",
              "My Sister's Keeper : A Novel (Picoult, Jodi)             9.545455\n",
              "The Giving Tree                                          9.423077\n",
              "Where the Sidewalk Ends : Poems and Drawings             9.400000\n",
              "84 Charing Cross Road                                    9.363636\n",
              "Johnny Got His Gun                                       9.333333\n",
              "The Two Towers (The Lord of the Rings, Part 2)           9.330882\n",
              "Wolves of the Calla (The Dark Tower, Book 5)             9.272727\n",
              "The Calvin and Hobbes Tenth Anniversary Book             9.260870\n",
              "Name: Book-Rating, dtype: float64"
            ]
          },
          "metadata": {}
        }
      ]
    },
    {
      "cell_type": "markdown",
      "metadata": {
        "id": "nMJzeW-c3UD4"
      },
      "source": [
        "Check least ratings with a minimum number with more than 20 reviews => Looked like the lowest rating = 4 and these are not very weird book title"
      ]
    },
    {
      "cell_type": "code",
      "metadata": {
        "colab": {
          "base_uri": "https://localhost:8080/",
          "height": 225
        },
        "id": "W81cN6KT3JsS",
        "outputId": "e372d867-3f8b-4672-8e52-b180f65bff44"
      },
      "source": [
        "display(mean_ratings.sort_values(ascending=False)[-10:])"
      ],
      "execution_count": null,
      "outputs": [
        {
          "output_type": "display_data",
          "data": {
            "text/plain": [
              "Book-Title\n",
              "Filthy Rich                                5.960000\n",
              "Mr. X                                      5.952381\n",
              "The Klone and I: A High-Tech Love Story    5.666667\n",
              "4 Blondes                                  5.653846\n",
              "Killing Time                               5.517241\n",
              "Naked Lunch                                5.458333\n",
              "Isle of Dogs                               5.433962\n",
              "Four Blondes                               5.393939\n",
              "The Sexual Life of Catherine M.            4.913043\n",
              "Wild Animus                                4.390706\n",
              "Name: Book-Rating, dtype: float64"
            ]
          },
          "metadata": {}
        }
      ]
    },
    {
      "cell_type": "markdown",
      "metadata": {
        "id": "NbH6yMep1txT"
      },
      "source": [
        "Check again top 10 book titles with most ISBN Numbers"
      ]
    },
    {
      "cell_type": "code",
      "metadata": {
        "colab": {
          "base_uri": "https://localhost:8080/",
          "height": 225
        },
        "id": "Qgwk3Rakzr_g",
        "outputId": "a16eeaf2-b85a-4c8c-8952-b09803f8f301"
      },
      "source": [
        "display(books_with_ratings.groupby('Book-Title')['ISBN'].nunique().sort_values(ascending=False)[:10])"
      ],
      "execution_count": null,
      "outputs": [
        {
          "output_type": "display_data",
          "data": {
            "text/plain": [
              "Book-Title\n",
              "Selected Poems                    16\n",
              "The Secret Garden                 16\n",
              "Dracula                           15\n",
              "Adventures of Huckleberry Finn    15\n",
              "Pride and Prejudice               14\n",
              "Wuthering Heights                 14\n",
              "Little Women                      13\n",
              "Beloved                           13\n",
              "The Hobbit                        12\n",
              "Jane Eyre                         12\n",
              "Name: ISBN, dtype: int64"
            ]
          },
          "metadata": {}
        }
      ]
    },
    {
      "cell_type": "markdown",
      "metadata": {
        "id": "k3HSxjSK8HB2"
      },
      "source": [
        "Check how many book title with unique ISBN = 1 => Some books are still having 2 and above with mutiple ISBN after merged"
      ]
    },
    {
      "cell_type": "markdown",
      "metadata": {
        "id": "0xgEqFj2baIa"
      },
      "source": [
        "It is best to keep those values as previously mentioned, better contents and revision would improve the book overall experience for sure"
      ]
    },
    {
      "cell_type": "code",
      "metadata": {
        "colab": {
          "base_uri": "https://localhost:8080/"
        },
        "id": "A7lT1HaO2NYv",
        "outputId": "39d47ee9-3db8-4319-83a7-1373e5fd2fca"
      },
      "source": [
        "isbn = books_with_ratings.groupby('Book-Title')['ISBN'].nunique()\n",
        "isbn.value_counts()"
      ],
      "execution_count": null,
      "outputs": [
        {
          "output_type": "execute_result",
          "data": {
            "text/plain": [
              "1     123405\n",
              "2       7733\n",
              "3       1426\n",
              "4        457\n",
              "5        179\n",
              "6         81\n",
              "7         36\n",
              "8         25\n",
              "9          8\n",
              "10         6\n",
              "16         2\n",
              "15         2\n",
              "14         2\n",
              "13         2\n",
              "12         2\n",
              "11         2\n",
              "Name: ISBN, dtype: int64"
            ]
          },
          "metadata": {},
          "execution_count": 57
        }
      ]
    },
    {
      "cell_type": "code",
      "metadata": {
        "colab": {
          "base_uri": "https://localhost:8080/"
        },
        "id": "BrW61HCj_Uj5",
        "outputId": "b8205a39-cc38-4161-fd55-3c9f403d188a"
      },
      "source": [
        "has_mult_isbn = isbn.where(isbn>1)\n",
        "print(\"Book Title With Multiple ISBN Numbers: \" + str(len(has_mult_isbn)))"
      ],
      "execution_count": null,
      "outputs": [
        {
          "output_type": "stream",
          "name": "stdout",
          "text": [
            "Book Title With Multiple ISBN Numbers: 133368\n"
          ]
        }
      ]
    },
    {
      "cell_type": "markdown",
      "metadata": {
        "id": "5kzRFi324MOW"
      },
      "source": [
        "Check the data size of Books With Ratings and Users Datasets"
      ]
    },
    {
      "cell_type": "code",
      "metadata": {
        "colab": {
          "base_uri": "https://localhost:8080/"
        },
        "id": "NcHOQFEc4CEm",
        "outputId": "a3dcb7ff-015c-48d3-c79c-7ced385af815"
      },
      "source": [
        "print(f'Books With Ratings Dataset Size: {len(books_with_ratings)}')\n",
        "print(f'Users Dataset Size: {len(users)}')"
      ],
      "execution_count": null,
      "outputs": [
        {
          "output_type": "stream",
          "name": "stdout",
          "text": [
            "Books With Ratings Dataset Size: 378032\n",
            "Users Dataset Size: 278858\n"
          ]
        }
      ]
    },
    {
      "cell_type": "markdown",
      "metadata": {
        "id": "nIBRZ86q4adk"
      },
      "source": [
        "Join the newly created Book With Ratings Dataset with Users Dataset with the User-ID field"
      ]
    },
    {
      "cell_type": "code",
      "metadata": {
        "colab": {
          "base_uri": "https://localhost:8080/",
          "height": 206
        },
        "id": "QPfc0W0GvlbK",
        "outputId": "fe6f8baf-fc19-4835-92ce-cfb8fe548cdf"
      },
      "source": [
        "books_with_ratings_users = books_with_ratings.join(users.set_index('User-ID'), on='User-ID')\n",
        "books_with_ratings.head()"
      ],
      "execution_count": null,
      "outputs": [
        {
          "output_type": "execute_result",
          "data": {
            "text/html": [
              "<div>\n",
              "<style scoped>\n",
              "    .dataframe tbody tr th:only-of-type {\n",
              "        vertical-align: middle;\n",
              "    }\n",
              "\n",
              "    .dataframe tbody tr th {\n",
              "        vertical-align: top;\n",
              "    }\n",
              "\n",
              "    .dataframe thead th {\n",
              "        text-align: right;\n",
              "    }\n",
              "</style>\n",
              "<table border=\"1\" class=\"dataframe\">\n",
              "  <thead>\n",
              "    <tr style=\"text-align: right;\">\n",
              "      <th></th>\n",
              "      <th>User-ID</th>\n",
              "      <th>ISBN</th>\n",
              "      <th>Book-Rating</th>\n",
              "      <th>Book-Title</th>\n",
              "      <th>Book-Author</th>\n",
              "      <th>Year-Of-Publication</th>\n",
              "      <th>Publisher</th>\n",
              "    </tr>\n",
              "  </thead>\n",
              "  <tbody>\n",
              "    <tr>\n",
              "      <th>1</th>\n",
              "      <td>276726</td>\n",
              "      <td>0155061224</td>\n",
              "      <td>5</td>\n",
              "      <td>Rites of Passage</td>\n",
              "      <td>Judith Rae</td>\n",
              "      <td>2001.0</td>\n",
              "      <td>Heinle</td>\n",
              "    </tr>\n",
              "    <tr>\n",
              "      <th>3</th>\n",
              "      <td>276729</td>\n",
              "      <td>052165615X</td>\n",
              "      <td>3</td>\n",
              "      <td>Help!: Level 1</td>\n",
              "      <td>Philip Prowse</td>\n",
              "      <td>1999.0</td>\n",
              "      <td>Cambridge University Press</td>\n",
              "    </tr>\n",
              "    <tr>\n",
              "      <th>4</th>\n",
              "      <td>276729</td>\n",
              "      <td>0521795028</td>\n",
              "      <td>6</td>\n",
              "      <td>The Amsterdam Connection : Level 4 (Cambridge ...</td>\n",
              "      <td>Sue Leather</td>\n",
              "      <td>2001.0</td>\n",
              "      <td>Cambridge University Press</td>\n",
              "    </tr>\n",
              "    <tr>\n",
              "      <th>8</th>\n",
              "      <td>276744</td>\n",
              "      <td>038550120X</td>\n",
              "      <td>7</td>\n",
              "      <td>A Painted House</td>\n",
              "      <td>JOHN GRISHAM</td>\n",
              "      <td>2001.0</td>\n",
              "      <td>Doubleday</td>\n",
              "    </tr>\n",
              "    <tr>\n",
              "      <th>16</th>\n",
              "      <td>276747</td>\n",
              "      <td>0060517794</td>\n",
              "      <td>9</td>\n",
              "      <td>Little Altars Everywhere</td>\n",
              "      <td>Rebecca Wells</td>\n",
              "      <td>2003.0</td>\n",
              "      <td>HarperTorch</td>\n",
              "    </tr>\n",
              "  </tbody>\n",
              "</table>\n",
              "</div>"
            ],
            "text/plain": [
              "    User-ID        ISBN  ...  Year-Of-Publication                   Publisher\n",
              "1    276726  0155061224  ...               2001.0                      Heinle\n",
              "3    276729  052165615X  ...               1999.0  Cambridge University Press\n",
              "4    276729  0521795028  ...               2001.0  Cambridge University Press\n",
              "8    276744  038550120X  ...               2001.0                   Doubleday\n",
              "16   276747  0060517794  ...               2003.0                 HarperTorch\n",
              "\n",
              "[5 rows x 7 columns]"
            ]
          },
          "metadata": {},
          "execution_count": 62
        }
      ]
    },
    {
      "cell_type": "markdown",
      "metadata": {
        "id": "zpJakUnA4xNC"
      },
      "source": [
        "Check each data column data and its shape"
      ]
    },
    {
      "cell_type": "code",
      "metadata": {
        "colab": {
          "base_uri": "https://localhost:8080/"
        },
        "id": "9IVTo5asvNR-",
        "outputId": "e3786c72-a31c-40d2-96ed-1323f06bf1a8"
      },
      "source": [
        "books_with_ratings_users.info()"
      ],
      "execution_count": null,
      "outputs": [
        {
          "output_type": "stream",
          "name": "stdout",
          "text": [
            "<class 'pandas.core.frame.DataFrame'>\n",
            "Int64Index: 378032 entries, 1 to 1149778\n",
            "Data columns (total 11 columns):\n",
            " #   Column               Non-Null Count   Dtype  \n",
            "---  ------               --------------   -----  \n",
            " 0   User-ID              378032 non-null  int64  \n",
            " 1   ISBN                 378032 non-null  object \n",
            " 2   Book-Rating          378032 non-null  int64  \n",
            " 3   Book-Title           378032 non-null  object \n",
            " 4   Book-Author          378031 non-null  object \n",
            " 5   Year-Of-Publication  378031 non-null  float64\n",
            " 6   Publisher            378030 non-null  object \n",
            " 7   Age                  263149 non-null  float64\n",
            " 8   City                 378032 non-null  object \n",
            " 9   State                378032 non-null  object \n",
            " 10  Country              367682 non-null  object \n",
            "dtypes: float64(2), int64(2), object(7)\n",
            "memory usage: 34.6+ MB\n"
          ]
        }
      ]
    },
    {
      "cell_type": "code",
      "metadata": {
        "colab": {
          "base_uri": "https://localhost:8080/"
        },
        "id": "JAyTTXT8kRiB",
        "outputId": "56be92b0-cf08-411c-beab-742d73613728"
      },
      "source": [
        "books_with_ratings_users.shape"
      ],
      "execution_count": null,
      "outputs": [
        {
          "output_type": "execute_result",
          "data": {
            "text/plain": [
              "(378032, 11)"
            ]
          },
          "metadata": {},
          "execution_count": 64
        }
      ]
    },
    {
      "cell_type": "markdown",
      "metadata": {
        "id": "KtXRHTNt44Ma"
      },
      "source": [
        "Outpt and save the progress to local directory"
      ]
    },
    {
      "cell_type": "code",
      "metadata": {
        "id": "U4b652-6j5He"
      },
      "source": [
        "books_with_ratings_users.to_csv('cleaned_data.csv')"
      ],
      "execution_count": null,
      "outputs": []
    },
    {
      "cell_type": "markdown",
      "metadata": {
        "id": "JZaU9xUV5BW2"
      },
      "source": [
        "## **Building a recommender system using collaborative filtering**"
      ]
    },
    {
      "cell_type": "code",
      "metadata": {
        "id": "ibroE1P-5J3j",
        "colab": {
          "base_uri": "https://localhost:8080/",
          "height": 206
        },
        "outputId": "8d26d232-aeb4-47e7-f7a3-058d7fe7db0e"
      },
      "source": [
        "user_item_rating = books_with_ratings[['User-ID', 'ISBN', 'Book-Rating']]\n",
        "user_item_rating.head()"
      ],
      "execution_count": null,
      "outputs": [
        {
          "output_type": "execute_result",
          "data": {
            "text/html": [
              "<div>\n",
              "<style scoped>\n",
              "    .dataframe tbody tr th:only-of-type {\n",
              "        vertical-align: middle;\n",
              "    }\n",
              "\n",
              "    .dataframe tbody tr th {\n",
              "        vertical-align: top;\n",
              "    }\n",
              "\n",
              "    .dataframe thead th {\n",
              "        text-align: right;\n",
              "    }\n",
              "</style>\n",
              "<table border=\"1\" class=\"dataframe\">\n",
              "  <thead>\n",
              "    <tr style=\"text-align: right;\">\n",
              "      <th></th>\n",
              "      <th>User-ID</th>\n",
              "      <th>ISBN</th>\n",
              "      <th>Book-Rating</th>\n",
              "    </tr>\n",
              "  </thead>\n",
              "  <tbody>\n",
              "    <tr>\n",
              "      <th>1</th>\n",
              "      <td>276726</td>\n",
              "      <td>0155061224</td>\n",
              "      <td>5</td>\n",
              "    </tr>\n",
              "    <tr>\n",
              "      <th>3</th>\n",
              "      <td>276729</td>\n",
              "      <td>052165615X</td>\n",
              "      <td>3</td>\n",
              "    </tr>\n",
              "    <tr>\n",
              "      <th>4</th>\n",
              "      <td>276729</td>\n",
              "      <td>0521795028</td>\n",
              "      <td>6</td>\n",
              "    </tr>\n",
              "    <tr>\n",
              "      <th>8</th>\n",
              "      <td>276744</td>\n",
              "      <td>038550120X</td>\n",
              "      <td>7</td>\n",
              "    </tr>\n",
              "    <tr>\n",
              "      <th>16</th>\n",
              "      <td>276747</td>\n",
              "      <td>0060517794</td>\n",
              "      <td>9</td>\n",
              "    </tr>\n",
              "  </tbody>\n",
              "</table>\n",
              "</div>"
            ],
            "text/plain": [
              "    User-ID        ISBN  Book-Rating\n",
              "1    276726  0155061224            5\n",
              "3    276729  052165615X            3\n",
              "4    276729  0521795028            6\n",
              "8    276744  038550120X            7\n",
              "16   276747  0060517794            9"
            ]
          },
          "metadata": {},
          "execution_count": 73
        }
      ]
    },
    {
      "cell_type": "code",
      "metadata": {
        "id": "PsYztSR8XyVX"
      },
      "source": [
        "train_data, test_data = model_selection.train_test_split(user_item_rating, test_size=0.20)"
      ],
      "execution_count": null,
      "outputs": []
    },
    {
      "cell_type": "code",
      "metadata": {
        "colab": {
          "base_uri": "https://localhost:8080/"
        },
        "id": "ha4bzOiDX3gF",
        "outputId": "970c2764-f195-4546-9704-6d7e4883cce8"
      },
      "source": [
        "print(f'Train Data Size: {len(train_data)}')\n",
        "print(f'Test Data Size: {len(test_data)}')"
      ],
      "execution_count": null,
      "outputs": [
        {
          "output_type": "stream",
          "name": "stdout",
          "text": [
            "Train Data Size: 302425\n",
            "Test Data Size: 75607\n"
          ]
        }
      ]
    },
    {
      "cell_type": "code",
      "metadata": {
        "id": "RDy05aycYG2K"
      },
      "source": [
        ""
      ],
      "execution_count": null,
      "outputs": []
    }
  ]
}